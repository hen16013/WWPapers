{
 "cells": [
  {
   "cell_type": "code",
   "execution_count": 1,
   "metadata": {},
   "outputs": [],
   "source": [
    "import pandas as pd\n",
    "import altair as alt\n",
    "import numpy as np\n",
    "import time\n",
    "from bs4 import BeautifulSoup\n",
    "from selenium import webdriver\n",
    "from selenium.webdriver.common.by import By\n",
    "from selenium.webdriver.support.ui import WebDriverWait\n",
    "from selenium.webdriver.support.expected_conditions import visibility_of_element_located\n",
    "\n",
    "scriptures = pd.read_csv(\"C:/Users/LeRoy12358/Documents/School/W23/499 DS - Senior Project/WWPapers/raw data/lds-scriptures.csv\")\n",
    "\n",
    "# scriptures"
   ]
  },
  {
   "cell_type": "code",
   "execution_count": 2,
   "metadata": {},
   "outputs": [],
   "source": [
    "browser = webdriver.Chrome()  # start a web browser\n",
    "browser.get(\"https://scriptures.byu.edu/#:t3d092:p573\")  # navigate to URL\n",
    "# wait for page to load\n",
    "# by waiting for <h1> element to appear on the page\n",
    "title = (\n",
    "    WebDriverWait(driver=browser, timeout=10)\n",
    "    .until(visibility_of_element_located((By.ID, \"jContent\")))\n",
    "    .text\n",
    ")\n",
    "# retrieve fully rendered HTML content\n",
    "content = browser.page_source\n",
    "browser.close()\n",
    "\n"
   ]
  },
  {
   "cell_type": "code",
   "execution_count": 3,
   "metadata": {},
   "outputs": [],
   "source": [
    "# # we then could parse it with beautifulsoup\n",
    "soup = BeautifulSoup(content, \"html.parser\")\n",
    "# print(soup.find(\"jContent\").text)\n",
    "# soup\n",
    "\n",
    "# soup.div['id']\n",
    "\n",
    "# print(soup.prettify())\n",
    "# content\n",
    "# soup.div.div.div\n",
    "\n",
    "soup.find(\"div\", {\"id\": \"jContent\"})\n",
    "tmp = soup.find('div', {'class': 'discourseBody'}).text\n",
    "\n",
    "# tmp.replace(\"\\xa0\", \"\")\n",
    "# tmp"
   ]
  },
  {
   "cell_type": "code",
   "execution_count": 4,
   "metadata": {},
   "outputs": [
    {
     "data": {
      "text/plain": [
       "['3d092',\n",
       " '3a99c',\n",
       " '3a987',\n",
       " '38296',\n",
       " '3827e',\n",
       " '38279',\n",
       " '35b8e',\n",
       " '35b8d',\n",
       " '35b8b',\n",
       " '35b75',\n",
       " '35b7e',\n",
       " '35b72',\n",
       " '35b79',\n",
       " '33473',\n",
       " '33471',\n",
       " '3346f',\n",
       " '33466',\n",
       " '3345f',\n",
       " '2e662',\n",
       " '2e65a',\n",
       " '2e648',\n",
       " '2e653',\n",
       " '2bf3b',\n",
       " '2bf36',\n",
       " '2bf2f',\n",
       " '2bf2e',\n",
       " '2bf25',\n",
       " '29834',\n",
       " '2982e',\n",
       " '2981b',\n",
       " '27125',\n",
       " '27106',\n",
       " '24a1a',\n",
       " '24a13',\n",
       " '249fc',\n",
       " '249f2',\n",
       " '222e1',\n",
       " '222e6',\n",
       " '1fbe3',\n",
       " '1fbf5',\n",
       " '1d4f7',\n",
       " '1d4c4',\n",
       " '1ade7',\n",
       " '1add5',\n",
       " '1adba',\n",
       " '186cc',\n",
       " '186a3',\n",
       " '15fd2',\n",
       " '15faf',\n",
       " '15f9c',\n",
       " '138c6',\n",
       " '138c5',\n",
       " '1117f',\n",
       " 'ea75',\n",
       " 'ea72',\n",
       " 'c37b',\n",
       " 'c363',\n",
       " '9c7a',\n",
       " 'c35b',\n",
       " '9c6c',\n",
       " '9c66',\n",
       " '9c5f',\n",
       " '9c54',\n",
       " '15fb9',\n",
       " '4e41']"
      ]
     },
     "execution_count": 4,
     "metadata": {},
     "output_type": "execute_result"
    }
   ],
   "source": [
    "links = soup.find('ul', {'class': 'talksblock'})\n",
    "\n",
    "linkList = links.find_all('a', {'class': 'refcounter'})\n",
    "\n",
    "link1 = links.find('a', {'class': 'refcounter'})['onclick']\n",
    "\n",
    "# type(link1)\n",
    "link1.replace(\"getTalk('\", \"\").replace(\"');\", \"\")\n",
    "# for item in linkList:\n",
    "#     # item.replace(\"getTalk('\", \"\").replace(\"');\", \"\")\n",
    "#     # print(item)\n",
    "#     pass\n",
    "# linkList.replace(\"getTalk('\", \"\").replace(\"');\", \"\")\n",
    "\n",
    "linkList2 = []\n",
    "\n",
    "for link in soup.find_all('a', {'class': 'refcounter'}):\n",
    "    linkList2.append(\n",
    "        np.base_repr(int(\n",
    "        link.get('onclick').replace(\"getTalk('\", \"\").replace(\"');\", \"\")\n",
    "        ), 16\n",
    "        ).lower()\n",
    "        )\n",
    "# http://example.com/elsie\n",
    "# http://example.com/lacie\n",
    "# http://example.com/tillie\n",
    "\n",
    "linkList2"
   ]
  },
  {
   "attachments": {},
   "cell_type": "markdown",
   "metadata": {},
   "source": [
    "The try block lets you test a block of code for errors.\n",
    "\n",
    "The except block lets you handle the error.\n",
    "\n",
    "The else block lets you execute code when there is no error.\n",
    "\n",
    "The finally block lets you execute code, regardless of the result of the try- and except blocks."
   ]
  },
  {
   "cell_type": "code",
   "execution_count": 5,
   "metadata": {},
   "outputs": [
    {
     "name": "stdout",
     "output_type": "stream",
     "text": [
      "3d092, 3a99c, 3a987, 38296, Something broke, autofixing.... 3827e, 38279, 35b8e, Something broke, autofixing.... 35b8d, 35b8b, Something broke, autofixing.... 35b75, 35b7e, 35b72, 35b79, 33473, 33471, 3346f, 33466, 3345f, Something broke, autofixing.... 2e662, 2e65a, 2e648, 2e653, 2bf3b, 2bf36, 2bf2f, 2bf2e, 2bf25, 29834, 2982e, 2981b, Something broke, autofixing.... 27125, 27106, 24a1a, 24a13, 249fc, Something broke, autofixing.... 249f2, 222e1, 222e6, 1fbe3, 1fbf5, 1d4f7, 1d4c4, Something broke, autofixing.... 1ade7, 1add5, 1adba, 186cc, 186a3, 15fd2, Something broke, autofixing.... 15faf, 15f9c, 138c6, 138c5, Something broke, autofixing.... 1117f, ea75, ea72, c37b, c363, 9c7a, Something broke, autofixing.... c35b, 9c6c, 9c66, Something broke, autofixing.... 9c5f, 9c54, 15fb9, 4e41, "
     ]
    }
   ],
   "source": [
    "# This will likely take quite a while to run....\n",
    "\n",
    "# breaker = False\n",
    "browser = webdriver.Chrome()  # start a web browser\n",
    "pot = []\n",
    "rawPot = []\n",
    "\n",
    "for i in range(0, len(linkList2)):\n",
    "    url = linkList2[i]\n",
    "    print(url, end = \", \")\n",
    "    \n",
    "    try:\n",
    "\n",
    "\n",
    "        browser.get(\"https://scriptures.byu.edu/#:t\" + url + \":p573\")  # navigate to URL\n",
    "        # wait for page to load by waiting for <h1> element to appear on the page\n",
    "        title = (\n",
    "            WebDriverWait(driver=browser, timeout=10)\n",
    "            .until(visibility_of_element_located((By.ID, \"jContent\")))\n",
    "            .text\n",
    "        )\n",
    "        # retrieve fully rendered HTML content\n",
    "        content = browser.page_source\n",
    "\n",
    "    except:\n",
    "        print(\"Something broke, autofixing....\", end = \" \")\n",
    "        browser.close()\n",
    "        browser = webdriver.Chrome()\n",
    "        i -= 1\n",
    "        # continue\n",
    "    else:\n",
    "        # we then could parse it with beautifulsoup\n",
    "        soup = BeautifulSoup(content, \"html.parser\")\n",
    "        rawPot.append(soup.find('div', {'class': 'discourseBody'}))\n",
    "        pot.append(soup.find('div', {'class': 'discourseBody'}).text)\n",
    "        # pot.append(soup.find_all('a', {'href': 'discourseBody'}))\n",
    "        time.sleep(.11)\n",
    "    \n",
    "browser.close()\n",
    "    # if(breaker):\n",
    "    #     break\n",
    "    # breaker = True\n",
    "    "
   ]
  },
  {
   "cell_type": "code",
   "execution_count": null,
   "metadata": {},
   "outputs": [],
   "source": []
  },
  {
   "cell_type": "code",
   "execution_count": 19,
   "metadata": {},
   "outputs": [],
   "source": [
    "# print(rawPot[0])"
   ]
  },
  {
   "cell_type": "code",
   "execution_count": 29,
   "metadata": {},
   "outputs": [
    {
     "name": "stdout",
     "output_type": "stream",
     "text": [
      "[<a href=\"javascript:void(0)\" onclick=\"gs(81044)\">1 Ne. 13:12</a>, <a href=\"javascript:void(0)\" onclick=\"gs(92013)\">D&amp;C 135:3</a>, <a href=\"javascript:void(0)\" onclick=\"gs(92090)\">D&amp;C 136:39</a>, <a href=\"javascript:void(0)\" onclick=\"gs(77079)\">Heb. 11:37</a>, <a href=\"javascript:void(0)\" onclick=\"gs(79274)\">Rev. 6:9</a>, <a href=\"javascript:void(0)\" onclick=\"gs(78347)\">2 Pet. 1:21</a>, <a href=\"javascript:void(0)\" onclick=\"gs(52425)\">Gen. 2:7</a>, <a href=\"javascript:void(0)\" onclick=\"gs(58970)\">Isa. 31:1</a>, <a href=\"javascript:void(0)\" onclick=\"gs(57425)\">Prov. 14:34</a>, <a href=\"javascript:void(0)\" onclick=\"gs(74706)\">Gal. 6:7</a>, <a href=\"javascript:void(0)\" onclick=\"gs(63721)\">Matt. 7:2</a>, <a href=\"javascript:void(0)\" onclick=\"gs(128980)\">Isa. 40:1-3</a>, <a href=\"javascript:void(0)\" onclick=\"gs(128981)\">Jer. 31:1-14</a>, <a href=\"javascript:void(0)\" onclick=\"gs(128982)\">Ezek. 20:33-44</a>, <a href=\"javascript:void(0)\" onclick=\"gs(83841)\">D&amp;C 5:14</a>, <a href=\"javascript:void(0)\" onclick=\"gs(84905)\">D&amp;C 33:5</a>, <a href=\"javascript:void(0)\" onclick=\"gs(90446)\">D&amp;C 109:73</a>, <a href=\"javascript:void(0)\" onclick=\"gs(74947)\">Eph. 2:20</a>, <a href=\"javascript:void(0)\" onclick=\"gs(77797)\">1 Pet. 2:6</a>, <a href=\"javascript:void(0)\" onclick=\"gs(61348)\">Dan. 2:44</a>, <a href=\"javascript:void(0)\" onclick=\"gs(61056)\">Dan. 2:34-35</a>, <a href=\"javascript:void(0)\" onclick=\"gs(86624)\">D&amp;C 65:2</a>, <a href=\"javascript:void(0)\" onclick=\"gs(61347)\">Dan. 2:44</a>, <a href=\"javascript:void(0)\" onclick=\"gs(57740)\">Isa. 2:2-3</a>, <a href=\"javascript:void(0)\" onclick=\"gs(79007)\">Rev. 1:9</a>, <a href=\"javascript:void(0)\" onclick=\"gs(79937)\">Rev. 14:6-7</a>, <a href=\"javascript:void(0)\" onclick=\"gs(79008)\">Rev. 1:9</a>, <a href=\"javascript:void(0)\" onclick=\"gs(79275)\">Rev. 6:9</a>, <a href=\"javascript:void(0)\" onclick=\"gs(84052)\">D&amp;C 13:1</a>, <a href=\"javascript:void(0)\" onclick=\"gs(128983)\">D&amp;C 27:8</a>, <a href=\"javascript:void(0)\" onclick=\"gs(93972)\">JS—H 1:68-72</a>, <a href=\"javascript:void(0)\" onclick=\"gs(84663)\">D&amp;C 27:12</a>, <a href=\"javascript:void(0)\" onclick=\"gs(70236)\">John 15:19</a>, <a href=\"javascript:void(0)\" onclick=\"gs(60055)\">Isa. 60:22</a>, <a href=\"javascript:void(0)\" onclick=\"gs(72231)\">Rom. 1:16</a>, <a href=\"javascript:void(0)\" onclick=\"gs(87720)\">D&amp;C 84:33</a>, <a href=\"javascript:void(0)\" onclick=\"gs(87749)\">D&amp;C 84:38-39</a>, <a href=\"javascript:void(0)\" onclick=\"gs(87757)\">D&amp;C 84:41</a>, <a href=\"javascript:void(0)\" onclick=\"gs(62111)\">Micah 3:11</a>, <a href=\"javascript:void(0)\" onclick=\"gs(72060)\">Acts 19:27</a>, <a href=\"javascript:void(0)\" onclick=\"gs(73644)\">1 Cor. 12:28</a>, <a href=\"javascript:void(0)\" onclick=\"gs(74946)\">Eph. 2:20</a>, <a href=\"javascript:void(0)\" onclick=\"gs(58285)\">Isa. 14:12</a>, <a href=\"javascript:void(0)\" onclick=\"gs(86905)\">D&amp;C 76:26</a>, <a href=\"javascript:void(0)\" onclick=\"gs(60585)\">Jer. 25:31</a>, <a href=\"javascript:void(0)\" onclick=\"gs(68010)\">Luke 21:24</a>, <a href=\"javascript:void(0)\" onclick=\"gs(79157)\">Rev. 5:9</a>, <a href=\"javascript:void(0)\" onclick=\"gs(79363)\">Rev. 8:6</a>, <a href=\"javascript:void(0)\" onclick=\"gs(80107)\">Rev. 16:1</a>, <a href=\"javascript:void(0)\" onclick=\"gs(80778)\">Rev. 21:9</a>, <a href=\"javascript:void(0)\" onclick=\"gs(80135)\">Rev. 16:19</a>, <a href=\"javascript:void(0)\" onclick=\"gs(59100)\">Isa. 34:5-6</a>, <a href=\"javascript:void(0)\" onclick=\"gs(83747)\">D&amp;C 1:36</a>, <a href=\"javascript:void(0)\" onclick=\"gs(76960)\">Heb. 11:3</a>, <a href=\"javascript:void(0)\" onclick=\"gs(76989)\">Heb. 11:7</a>, <a href=\"javascript:void(0)\" onclick=\"gs(52829)\">Gen. 6:3</a>, <a href=\"javascript:void(0)\" onclick=\"gs(93285)\">Moses 8:17</a>, <a href=\"javascript:void(0)\" onclick=\"gs(76995)\">Heb. 11:8</a>, <a href=\"javascript:void(0)\" onclick=\"gs(55073)\">Deut. 20:3</a>, <a href=\"javascript:void(0)\" onclick=\"gs(89787)\">D&amp;C 103:19</a>, <a href=\"javascript:void(0)\" onclick=\"gs(128984)\">D&amp;C 88:2</a>, <a href=\"javascript:void(0)\" onclick=\"gs(128985)\">D&amp;C 98:2</a>, <a href=\"javascript:void(0)\" onclick=\"gs(86189)\">D&amp;C 58:22</a>, <a href=\"javascript:void(0)\" onclick=\"gs(61804)\">Hosea 8:7</a>, <a href=\"javascript:void(0)\" onclick=\"gs(83002)\">3 Ne. 27:27</a>, <a href=\"javascript:void(0)\" onclick=\"gs(67844)\">Luke 17:33</a>, <a href=\"javascript:void(0)\" onclick=\"gs(75044)\">Eph. 4:10</a>, <a href=\"javascript:void(0)\" onclick=\"gs(88266)\">D&amp;C 88:6</a>, <a href=\"javascript:void(0)\" onclick=\"gs(90933)\">D&amp;C 122:8</a>, <a href=\"javascript:void(0)\" onclick=\"gs(90934)\">D&amp;C 122:8</a>, <a href=\"javascript:void(0)\" onclick=\"gs(79057)\">Rev. 2:10</a>]\n"
     ]
    }
   ],
   "source": [
    "# tmp = pot[0].find('div', {'class': 'discourseBody'}).text\n",
    "tmp = rawPot[0]\n",
    "\n",
    "# soup.find(\"div\", {\"id\": \"jContent\"})\n",
    "# tmp = soup.find('div', {'class': 'discourseBody'}).text\n",
    "\n",
    "# tmp.find_all('a', {'href': 'javascript:void(0)'})#'onclick': 'gs(\\d*)'})\n",
    "tmp.find_all('span', {'class': 'citation'})#'onclick': 'gs(\\d*)'})\n",
    "\n",
    "citationList = tmp.find_all('span', {'class': 'citation'})\n",
    "\n",
    "\n",
    "\n",
    "referenceList = []\n",
    "\n",
    "for citation in citationList:\n",
    "    referenceList.append(\n",
    "    citation.find_all('a', {'href': 'javascript:void(0)'})[1]\n",
    "    )\n",
    "    # print(citation.find('span', {'class': 'citation'}))\n",
    "\n",
    "# # TODO: this loop doesn't actually form a referenceList of all references in the html file. Instead, it takes the first reference from each file. The above loop should be correct\n",
    "# for rawSoup in rawPot:\n",
    "#     referenceList.append(\n",
    "#     rawSoup.find('span', {'class': 'citation'}).find_all('a', {'href': 'javascript:void(0)'})[1].text\n",
    "#     )\n",
    "#     print(rawSoup.find('span', {'class': 'citation'}))\n",
    "\n",
    "# # tmp.find('span', {'class': 'citation'}).find_all('a', {'href': 'javascript:void(0)'})[1].text\n",
    "\n",
    "print(referenceList)"
   ]
  },
  {
   "cell_type": "code",
   "execution_count": 7,
   "metadata": {},
   "outputs": [
    {
     "name": "stderr",
     "output_type": "stream",
     "text": [
      "C:\\Users\\LeRoy12358\\AppData\\Local\\Temp\\ipykernel_13308\\3275803033.py:5: FutureWarning: The default value of regex will change from True to False in a future version.\n",
      "  s = s.str.replace(\"(,|\\.|;) *\", \"\\\\1 \")\n"
     ]
    },
    {
     "data": {
      "text/plain": [
       "\"\\n There is a proverb or saying which I have heard a good many times in my life, and which I think bears a great deal of weight, and that is, “truth is mighty and will prevail. ” I think this has been manifested in every capacity in which truth has been used, whether applied temporally or spiritually; whether applied in the capacity of nations, or families, or individuals; whether applied to the world or to the kingdom of God. I think that in every age of the world, truth, whether it has been popular or unpopular, has proved itself, in the end of its labor, to prevail in all cases. When Columbus was moved upon by the Spirit of God, to cross the ocean to find a new continent, \\xa01 Ne. 13:12 his object and desires were unpopular with those by whom he was surrounded, and it was only after a good deal of labor that he gained favor in the eyes of any of the rulers of the nations [p. \\xa04b] whereby to receive assistance sufficient to carry out his wishes. But in the end he prevailed. He found a new world, as it were, which today contains a population of the Anglo-Saxon race, numbering fifty millions of people. The commencement of Columbus' project was certainly unpopular, but the result has proved it true. And so in all cases, whenever men have been inspired to receive truth, or to promulgate any principle, which would be a benefit to the human family, they have generally been unpopular. When Robert Fulton undertook to demonstrate the power of steam in a steamboat, the crowd which gathered to behold the event, did not gather to see success; they gathered there to ridicule, to see a man fail in performing a work which they considered impossible. But when the steam was applied to the vessel it moved. The invention was certainly  [p. \\xa05a]very crude, but there was truth in it, and it has prevailed to a great extent; for steam is the great motive power of all the machinery in the world, in a great measure. And so with a Scottish Earl when he announced that there was a man going to try and light the City of Edinburgh with smoke. The man was looked upon as crazy. But there was truth in that smoke, and it lit the city, and it has given light to a good many other cities since. The principle prevailed, and is now adopted throughout the world. So with Mr. Morse, the electrician. He unsuccessfully in the first instance [in 1837-8], sought aid both from the American Congress and the English government to enable him to carry out his ideas; but, ultimately [in 1843] he gained assistance from Congress, and his invention of telegraphy was demonstrated a success, and is now made use of throughout the civilized world. And so we might go on to show that in almost every instance when men have undertaken to introduce new principles—principles of truth—principles that would benefit the human family—they have generally been very unpopular, until the truth was made manifest to the world. The same thing may be applied to the introduction of the principles of eternal truth pertaining to the salvation of the human family in a spiritual point of view. When our Lord and Savior Jesus Christ, stepped forth into the world to occupy the position to which He had been ordained of God, there were but few individuals who had faith in Him, or who were looking for the coming of the Son of Man in fulfillment of prophecy. Jesus, all His life, it may be said, from the manger to the cross, was very unpopular with the mass of the human family, more [p. \\xa05b] particularly the inhabitants of Jerusalem. His history is before the world. He died an ignominious death upon the cross, and those of His own Father's house, the High Priests, and the leading men of Jerusalem, were all in favor of His death. Yet the Savior possessed truth. He offered truth to the world; He offered life and salvation to the world. But the principles He taught were unpopular in His day. He gathered around Him a few followers; but the acceptance of His principles cost them their lives, as it did the life of the Savior Himself. I do not know of a man—except it was John the Revelator—who escaped. They all died violent deaths. They had to seal their testimony with their blood. \\xa0D&C 135:3\\xa0D&C 136:39 Some were crucified; others were sawn asunder, \\xa0Heb. 11:37 beheaded, or in some way put to death for the word of God, and the testimony of Jesus Christ. \\xa0Rev. 6:9 They were put to death for their religion. How is it today? What name has been more honored, or more held up as an ensample to the world than the name of Jesus Christ? The Catholic world, the Protestant world, in fact the whole Christian world are professing to honor the name of Jesus Christ. The Savior had truth, but it was not received in His day and time. With regard to our own time my mind is often led to reflect upon it. Half a century has past and gone before the eyes of this generation, since the God of heaven commenced, as in former ages of the world, the fulfillment of prophecy and revelation contained in the Bible—this good old book that the Christian world profess to believe in so much. The Lord has set His hand to bring to pass some of these prophecies and principles which He had foreordained before the world was, and  [p. \\xa06a]which He has left on record through the medium of holy men who wrote and spoke as they were moved upon by the Holy Ghost\\xa02 Pet. 1:21 from generation to generation. Those prophecies are with us today. They are contained in the Bible, a book that is published by millions throughout the Christian world. The Christian world profess to honor the Bible, and to honor the prophecies and sayings of Christ and the Apostles. But do they believe in the fulfillment of these things? Do they believe in the fulfillment of these principles and truths which are today being fulfilled in the eyes of heaven and earth? No. Those prophecies and those principles—which the God of heaven has set His hand to carry out—are as unpopular today throughout the Christian world as they were when Jesus of Nazareth stood in the flesh and proclaimed the same to the Jewish nation. We occupy the same position that they did in that day and generation with regard to these truths. Now, as I have said, truth is mighty. It always has prevailed in every age of the world. It will prevail in this dispensation as it has done in others. The God of Israel will no more fail today to carry out the principles which He has stretched forth His hand to establish, than he did in the days of either Adam, Enoch, Noah, or Jesus, or in the days of any other dispensation. The principles to which I allude—the principles of the Gospel—are worthy the attention and comprehension of at least the Latter-day Saints, and it would be well for the Christian world to take them into consideration also; for if truth is going to prevail in the earth it certainly will involve the destiny of this whole generation, Jew and Gentile, [p. \\xa06b] high and low, rich and poor, Zion and Babylon. It will involve the destiny of the whole world—of the fourteen hundred millions of people who breathe the breath of life\\xa0Gen. 2:7 in it. And I bear record and testimony, as a servant of God, that the God of heaven has set His hand to carry out those great and eternal principles which He decreed before the world was made and which He has left on record through the mouths of His prophets, to be fulfilled in the last dispensation and fullness of times. Are these principles popular today? They are not. Why not? Because the world is not governed by the spirit of inspiration; because its people do not seek the Lord; \\xa0Isa. 31:1 because they do not honor His name; but they are governed and controlled by other principles. But the Lord will rule over His own Kingdom, notwithstanding the Devil has great dominion today as he has had in almost every age of the world. The inhabitants of the earth have their agency. They must use that agency according to the desires of their own hearts, whether they be for good, or whether they be for evil. But the day is at hand when the Lord will show the children of this generation that there is a God in Israel, as He has done in other dispensations when He has reigned. In all the history of the dealings of God with man this one principle, sooner or later, has manifested itself: that virtue exalteth a nation, while sin is a reproach to any people. \\xa0Prov. 14:34 You will see that this has been manifested in the history of all nations under heaven—in their rise and progress and prosperity, and in their fall and decline and in their final overthrow and destruction. You will find in every instance that sin, error, darkness, falsehood, wrongdoing, have laid the foundation of the overthrow  [p. \\xa07a]of every nation and city under heaven from the foundation of the world until the present time. What men sow they will reap, \\xa0Gal. 6:7 and what measure they measure to others will be measured unto them. \\xa0Matt. 7:2  Today we occupy a peculiar position as a people—as Latter-day Saints here in these mountains. Here is a people growing up in the earth who are organized into a Church, called the Church of Jesus Christ of Latter-day Saints. How did the organization of that Church come about? Why, the God of heaven has proclaimed through His prophets Isaiah, \\xa0Isa. 40:1-3 Jeremiah, \\xa0Jer. 31:1-14 Ezekiel, \\xa0Ezek. 20:33-44 and others, whose writings are contained within the lids of the Bible, that in the latter days He would set His hand to call forth His Church out of the wilderness\\xa0D&C 5:14\\xa0D&C 33:5 and out of darkness\\xa0D&C 109:73 and error, and establish it upon the foundation of truth, Christ Jesus being the chief cornerstone. \\xa0Eph. 2:20\\xa01 Pet. 2:6 The God of heaven also proclaimed through Daniel, 4, 000 years ago, that in the latter days he would set up a kingdom which should never be destroyed; and the kingdom should not be left to other people, but it should break in pieces and consume all these kingdoms, and it should stand forever. \\xa0Dan. 2:44 That prophet also declared that a little stone should be cut out of the mountain without hands; that the stone should become a great mountain and fill the whole earth; \\xa0Dan. 2:34-35\\xa0D&C 65:2 and that it should break in pieces all other kingdoms. \\xa0Dan. 2:44 Was that Prophet inspired by the Spirit and power of God? I say in the name of Israel's God he was, and so was Isaiah when he spoke of the gathering of the people unto the mountains of Israel to establish the Zion of God in its beauty, strength, power and glory. \\xa0Isa. 2:2-3 The God of heaven also inspired a prophet as he stood upon the Isle of [p. \\xa07b] Patmos\\xa0Rev. 1:9John the Revelator—and in connection with the great events of the last dispensation and fullness of times he saw, in vision, an “angel fly in the midst of heaven, having the everlasting gospel to preach unto them that dwell on the earth, and to every nation, and kindred, and tongue, and people, Saying with a loud voice, Fear God, and give glory to him; for the hour of his judgment is come. ”\\xa0Rev. 14:6-7 Now I want this congregation; I want the world; I want the Christian world; I want the priests of the day who cry aloud for the blood of innocence to be shed to carry out their desires—I want these priests and all who are laboring to overthrow “Mormonism, ” to carefully inquire, whether those prophets were inspired of God. And if they were inspired of God, whether it is right for them to make war against the work of God in the earth? Whether it would not be better to let these things alone—to leave them in the hands of the Lord, and allow Him to govern and control as He sees fit? And if these men were inspired of the Lord and made those proclamations—with thousands of others in the Bible and in the revelations of God—the question is, whether this warfare against God and against His work is going to prevail? The wicked will have no such power; for the Lord has set His hand to fulfill these things which have been predicted by His Prophets—to establish His Church and Kingdom upon the earth. He has called Prophets, and they were inspired of God. Joseph Smith was a Prophet of God. He was a man raised up by the power of God. He received the testimony of the Gospel of Jesus Christ by visions and revelation as did John the Revelator. Angels appeared unto him and taught him the ways of life. [p. \\xa08a]Those men who held the Priesthood—who were put to death in the flesh for the word of God, and the testimony of Jesus Christ\\xa0Rev. 1:9\\xa0Rev. 6:9visited Joseph Smith. John the Baptist conferred upon him the Aaronic Priesthood; \\xa0D&C 13:1\\xa0D&C 27:8\\xa0JS—H 1:68-72 Peter, James and John, the Apostleship and Melchizedek Priesthood; \\xa0D&C 27:12 and all the Prophets who held any keys and powers belonging to the Gospel these also visited Joseph Smith, and conferred upon him those keys and powers and authority to administer them on the earth. These are eternal truths, as the God of heaven lives, and they will prevail whether men believe them or not, or whether the wicked war against them or not. These truths belong to God Himself. He is the author of them. He has given forth certain decrees, and they will have their fulfillment in the earth. Now, as far as the Latter-day Saints are concerned, I will say to my brethren and sisters, we ought to contemplate these principles. There is no power organized beneath the heavens that can stay the hand of Almighty God. He has set His hand to carry out His purposes. The world hate this people, because the Lord has called them forth out of the world, the same as He called His disciples of old. \\xa0John 15:19 This is the position we occupy today, as His people. Though our numbers are small, yet “a little one shall become a thousand, and a small one a strong nation:” and the Lord will hasten it in His time. A little one has already become more than a thousand, or a hundred thousand, and in spite of all opposition this small one will become a great nation, and God will hasten it in His time, \\xa0Isa. 60:22 because God is our friend. Now, these are truths. They have emanated from God Himself. [p. \\xa08b] The Gospel of Jesus Christ is the law of salvation. No man can be saved without it. The Gospel is the power of God unto salvation to every one that believeth—to Jew or Greek, \\xa0Rom. 1:16 Catholic, Methodist, Baptist, or any other sect or party on the face of the earth. We, as Latter-day Saints, are called upon to build up Zion. We have been gathered to be instructed by inspiration and through the medium of the Holy Priesthood, in the principles of eternal truth. This is our condition today. Fifty-three years have passed since this work commenced. Joseph Smith dwelt in the flesh some fourteen years after he organized this Church. He holds the keys of this dispensation on both sides of the veil, and will hold them forever. God ordained him to perform a certain work. He performed it. He stayed on earth until his work was finished. All the keys, powers and principles which God gave unto him he left with his brethren; although whatsoever he left with his brethren did not take from him; for as Jesus says in a revelation given in regard to the Priesthood:  “Whoso is faithful unto the obtaining these two priesthoods of which I have spoken, and the magnifying their calling, are sanctified by the Spirit unto the renewing of their bodies. \\xa0D&C 84:33  “And he that receiveth my Father receiveth my Father's kingdom; therefore all that my Father hath shall be given unto him. “And this is according to the oath and the covenant which belongeth to the priesthood. \\xa0D&C 84:38-39  “But whoso breaketh this covenant after he hath received it, and altogether turneth therefrom, shall not have forgiveness of sins in this world nor in the world  [p. \\xa09a]to come. ”\\xa0D&C 84:41Doc. and Cov. , Sec. 84. Thus, although the Lord bestows upon His servants the same powers and blessings that He Himself holds, it does not take away these powers and blessings from the Father. The Father possesses all He had before. The Son possesses all that he hath given unto him. So do the sons of the living God. When a man bestows those gifts and blessings and powers upon others, he does not lose them himself. The Lord raised up Joseph Smith. He organized this Church. It has been organized for 54 years next April. And what has been the consequence? Have we had opposition? Yes. Have we had persecution? Yes. Is not the desire of a great many millions of people for our overthrow? Yes; and a great many wish us put to death. Some men go so far as to be willing to slay, utterly, men, women and children, because they believe what is termed “Mormonism, ” but which is really the Gospel of Jesus Christ. These things are proclaimed to the world today. What is the matter? Mormonism is unpopular. Why is it unpopular? “Because, ” say the priests of the day, “it interferes with our rights. We preach for hire and divine for money, \\xa0Micah 3:11 and if the Mormons were to prevail in the earth, we should lose our business, \\xa0Acts 19:27 and we cannot endure it. ” “Why, ” says the world, “you profess to believe in polygamy, and that is why you are persecuted. ” No, you are mistaken about that. The worst persecution this Church ever endured was before polygamy was revealed to the Church. We have had more prosperity since we carried out that law, and endeavored to fulfill it according to the command of God, than we ever had as a people before. And here is the principle with me—I speak as an [p. \\xa09b] individual; I speak for myself—if this work is of God; if the Gospel of Jesus Christ, as revealed to Joseph Smith, is true, then God will take care of it; if the patriarchal law of marriage comes from the God of Israel, He will take care of it; He will protect and defend it, and He will uphold the people that carry it out. I say this is in the name of Israel's God, And if it is not of God, who wants it? I don't, neither do this people. I speak of this principle because I want my brethren and sisters to understand the views I have upon it. I know we are engaged in the work of the Lord. I know this is His Church. He has organized it with Prophets and Apostles in fulfillment of predictions made thousands of years ago. \\xa01 Cor. 12:28\\xa0Eph. 2:20 This is a work which was ordained before the world was. The Lord Almighty never created a world like this and peopled it for 6, 000 years, as he has done, without having some motive in view. That motive was, that we might come here and exercise our agency. The probation we are called upon to pass through, is intended to elevate us so that we can dwell in the presence of God our Father. And that eternal variety of character which existed in the heavens among the spirits—from God upon his throne down to Lucifer the son of the morning\\xa0Isa. 14:12\\xa0D&C 76:26exists here upon the earth. That variety will remain upon the earth in the creations of God, and for what I know, throughout the endless ages of eternity. Men will occupy different glories and positions according to their lives—according to the law they keep in the flesh. But I want the Latter-day Saints to understand their position. Our trust is in God. With regard to men, it is our duty to treat our fel-[p. \\xa010a]lowmen aright, to leave them in the hands of God if they persecute us. The Lord has a controversy with this generation. \\xa0Jer. 25:31 This Bible, the Old and New Testament, contains a vast amount of, I will say, tremendous revelations, tremendous events, which hang over the heads of the people of this dispensation. Are these events going to fall unfulfilled? No; no more than they did in the days of the fall of Babylon, of Nineveh, of Jerusalem, and of other cities in the nations of the earth. When the inhabitants of Jerusalem became ripe in iniquity; though Jerusalem was the royal city, in which was the Urim and Thummim, and in which sacrifices were made unto the Lord, yet the city was laid low, and the Jews have been trampled under the feet of the Gentiles for 1, 800 years. \\xa0Luke 21:24 We are living at the commencement of the Millennium, and near the close of the 6, 000th year of the world's history. Tremendous events await this generation. You can read an account of them in the revelations of St. John; the opening of the seals; \\xa0Rev. 5:9 the blowing of the trumpets; \\xa0Rev. 8:6 the pouring out of the plagues; \\xa0Rev. 16:1\\xa0Rev. 21:9 the judgments of God which will overtake the wicked when Great Babylon comes in remembrance before God, \\xa0Rev. 16:19 and when the sword that is bathed in heaven shall fall on Idumea, \\xa0Isa. 34:5-6 or the world, \\xa0D&C 1:36 who shall be able to abide these things? Here we are living in the midst of these tremendous events. We are in the hands of God; our nation is, and so are the nations of the earth; and when they undertake to overthrow the Kingdom of God, which is decreed shall be established, they have somebody to fight against besides Joseph Smith, Brigham Young, or John Taylor, or any other of the leaders of the Church of Jesus [p. \\xa010b] Christ of Latter-day Saints. This warfare is between God and the devil, between light and darkness, truth and error, between the heavens and the earth; and that God who has supported His work from the creation of the world, is bound to do it unto the end. Where have you ever read that the Kingdom of God would be overthrown in the last days? You cannot find it anywhere on the pages of the records of divine truth. No; the revelations of God will be fulfilled. And we must exercise faith in that direction. As the ancients had faith; as the world was created by faith; \\xa0Heb. 11:3 as Noah built an ark\\xa0Heb. 11:7 and preached the Gospel of repentance for 120 years by faith; \\xa0Gen. 6:3\\xa0Moses 8:17 as Abraham went out not knowing where he was going by faith; \\xa0Heb. 11:8 as the ancients performed many mighty works, such as the subduing of cities and kingdoms by faith; therefore I say to the Latter-day Saints, you are required by the God of Israel, your Heavenly Father, by his Son Jesus Christ, by the holy angels, and by every principle of eternal truth, to exercise faith in the revelations of God, for they will be fulfilled as the Lord lives. God is with this people. But we are required to hearken to his voice, obey his commandments, and humble ourselves before him. And I thank the Lord that I have lived to see the time when I believe there is a great improvement among the Latter-day Saints. I believe they are exercising greater faith in God. And there is a calmness prevailing among the Mormons—so called—that is a marvel and a wonder to the world. The world wonder why we are not excited over the opposition that is brought to bear upon us by the millions of people who inhabit this continent, as well as by the people of the nations of the earth. The  [p. \\xa011a]reason of our calmness is—God is our friend, our lawgiver, our deliverer. If the Lord cannot sustain His work, we certainly cannot. But He can. He has always done it, and will do it to the end. Therefore I say to the Saints, fear not. Trust in God. Let not your hearts be faint. \\xa0Deut. 20:3\\xa0D&C 103:19 Let your prayers ascend to the ears of the Lord of Sabaoth, \\xa0D&C 88:2\\xa0D&C 98:2 day and night. Ask what you want. When you do that, the Lord will answer your prayers, if you ask what is right. There is where our our strength lies. It is in God. I have no hope in anything else. But I do look upon the Latter-day Saints as occupying a most glorious position in this day and age of the world. This is the first time since God created the world that he has ever established a dispensation to remain on the earth until the coming of the Son of Man—to remain in power and strength and glory, until the Millennium, until He reigns whose right it is to reign. \\xa0D&C 58:22 Behold what lies before you! Behold the power of God! Behold the prosperity of Zion! Behold the blessings which have rested upon your houses, your lands, your flocks and herds, your children—the blessings of the earth as well as of the heavens—in this mighty barren desert! Then should we have any doubts or fears with regard to the Kingdom of God? No! As a people we should rise up in faith and power before God, and make our wants known, and leave our destiny in His hands. It is there anyhow. It will remain there. And with regard to our nation, I leave them in the hands of God; but I would to God their eyes were open to see and understand the responsibilities that rest upon them. I would to God that the rulers of our land—the President of the United States, the [p. \\xa011b] Congress of the United States, the Supreme Court of the United States—would learn the responsibility the God of heaven will hold them to in the administration of those glorious principles laid down in the Constitution of the government of this country. The God of heaven will hold this nation, as well as all other nations, responsible for the manner in which these principles are used. If they misuse them, it will be their loss. If they trample the Constitution under foot; if they undertake to deprive any portion of citizens of the rights the Constitution guarantees unto them, they will be held responsible, and will have to pay the bill. When innocent blood is shed, it costs something; and I would to God that our nation could understand the blessings they enjoy. There is no nation on the face of the earth that has the same liberty that is guaranteed to us by the Constitution of our country. Have we any warfare with our Government? Have we any reproach to offer them? Not at all. I feel sorry that this nation should sow seeds which when ripe will bring destruction; for I know as God lives that if this or any other government departs from the principles of truth, becomes ripened in iniquity, forsakes the Lord, forsakes the principles of life and liberty, the God of heaven will hold it responsible. Judgments will come upon the wicked. When men depart from the principles of truth and cleave unto darkness and wickedness, they reap the whirlwind; \\xa0Hosea 8:7 they lay the foundation for desolation. I pray God my heavenly Father, that his blessing may rest upon us as Latter-day Saints; that we may comprehend and understand our position, our duties and our responsibilities to God. When I look, [p. \\xa012a]brethren and sisters, upon this handful of men and women here in these mountains of Israel, say 150, 000, out of the fourteen hundred million people that dwell on the earth; when I realize the responsibility that God has laid upon the Latter-day Saints, the responsibility of building up this great kingdom of our God, of proclaiming the principles of eternal life, light and truth to the world; when I reflect upon these things I ask myself the question, What manner of men ought we to be?\\xa03 Ne. 27:27 Our numbers are small compared even with the inhabitants of this nation, not to speak of the inhabitants of the world; yet, as I said before I say again, the God of heaven looks to the Latter-day Saints to carry on His work. Then let us be careful. Let us realize our condition. Let us realize we are here upon a mission. Let us realize that we will be held responsible for the manner in which we fill it. We should be willing to sacrifice everything for the upbuilding of the Kingdom of God. Any man who will seek to save his life and desert the principles of the Gospel, is not worthy of eternal life. \\xa0Luke 17:33 How many have laid down their lives since the creation of the world for the sake of the truth? Jesus Himself descended below all things. \\xa0Eph. 4:10\\xa0D&C 88:6\\xa0D&C 122:8 He [p. \\xa012b] descended, I believe, lower than any other man will be called to descend. Are we greater than Jesus?\\xa0D&C 122:8 If we are called upon today to lay down our lives, what of it? Is it not as well to die for the Gospel's sake as to die for anything else? A million of men, a few years ago, sacrificed their lives for the honor of this nation. No matter what we may be called to pass through, let us maintain our integrity to God. Where is the man whose mind has been lit up by the inspiration of God to comprehend the celestial kingdom, or the celestial law, or the Gospel of Jesus Christ, who can bear the idea of pursuing a course whereby he will be cut off from inheriting the blessings for which he has hoped in the future? No, I would rather die a thousand deaths than be deprived of these blessings. We have a long time to live when we get through here. There is all eternity before us. It will pay you, it will pay me—no matter what comes, no matter what this nation may do to oppress us—to be true and faithful to our covenants, to our wives and children, to our God and to our country; it will pay us to be faithful to the end. I pray God that this may be our lot, that we may be true and faithful unto death, and inherit eternal life, \\xa0Rev. 2:10 for Jesus' sake. Amen. \\n\""
      ]
     },
     "execution_count": 7,
     "metadata": {},
     "output_type": "execute_result"
    }
   ],
   "source": [
    "pd.set_option('display.max_rows', 100)\n",
    "\n",
    "s = pd.Series(pot)\n",
    "# s = pd.Series([tmp.replace(\"\\xa0\", \"\")], index=[\"\"])\n",
    "s = s.str.replace(\"(,|\\.|;) *\", \"\\\\1 \")\n",
    "\n",
    "pd.DataFrame(s.str.extractall(\n",
    "    # \"(.{0,30})(\\d* *\\w*&?\\w*\\.? *\\d+:\\d+)\"\n",
    "    \"(.{0,30})(\\d+:\\d+)\"\n",
    "    )).reset_index().drop(columns=[])\n",
    "\n",
    "s[0]"
   ]
  },
  {
   "cell_type": "code",
   "execution_count": null,
   "metadata": {},
   "outputs": [],
   "source": []
  },
  {
   "cell_type": "code",
   "execution_count": 16,
   "metadata": {},
   "outputs": [
    {
     "data": {
      "text/html": [
       "<div>\n",
       "<style scoped>\n",
       "    .dataframe tbody tr th:only-of-type {\n",
       "        vertical-align: middle;\n",
       "    }\n",
       "\n",
       "    .dataframe tbody tr th {\n",
       "        vertical-align: top;\n",
       "    }\n",
       "\n",
       "    .dataframe thead th {\n",
       "        text-align: right;\n",
       "    }\n",
       "</style>\n",
       "<table border=\"1\" class=\"dataframe\">\n",
       "  <thead>\n",
       "    <tr style=\"text-align: right;\">\n",
       "      <th></th>\n",
       "      <th>level_0</th>\n",
       "      <th>match</th>\n",
       "      <th>0</th>\n",
       "      <th>1</th>\n",
       "    </tr>\n",
       "  </thead>\n",
       "  <tbody>\n",
       "    <tr>\n",
       "      <th>0</th>\n",
       "      <td>0</td>\n",
       "      <td>0</td>\n",
       "      <td>ean to find a new continent,</td>\n",
       "      <td>1 Ne. 13:12</td>\n",
       "    </tr>\n",
       "    <tr>\n",
       "      <th>1</th>\n",
       "      <td>0</td>\n",
       "      <td>1</td>\n",
       "      <td>testimony with their blood.</td>\n",
       "      <td>D&amp;C 135:3</td>\n",
       "    </tr>\n",
       "    <tr>\n",
       "      <th>2</th>\n",
       "      <td>0</td>\n",
       "      <td>2</td>\n",
       "      <td>D&amp;C 13</td>\n",
       "      <td>6:39</td>\n",
       "    </tr>\n",
       "    <tr>\n",
       "      <th>3</th>\n",
       "      <td>0</td>\n",
       "      <td>3</td>\n",
       "      <td>d; others were sawn asunder,</td>\n",
       "      <td>Heb. 11:37</td>\n",
       "    </tr>\n",
       "    <tr>\n",
       "      <th>4</th>\n",
       "      <td>0</td>\n",
       "      <td>4</td>\n",
       "      <td>e testimony of Jesus Christ.</td>\n",
       "      <td>Rev. 6:9</td>\n",
       "    </tr>\n",
       "    <tr>\n",
       "      <th>...</th>\n",
       "      <td>...</td>\n",
       "      <td>...</td>\n",
       "      <td>...</td>\n",
       "      <td>...</td>\n",
       "    </tr>\n",
       "    <tr>\n",
       "      <th>2630</th>\n",
       "      <td>53</td>\n",
       "      <td>64</td>\n",
       "      <td>showing that summer is nigh.</td>\n",
       "      <td>Matt. 24:32</td>\n",
       "    </tr>\n",
       "    <tr>\n",
       "      <th>2631</th>\n",
       "      <td>53</td>\n",
       "      <td>65</td>\n",
       "      <td>e among the foolish virgins,</td>\n",
       "      <td>Matt. 25:1</td>\n",
       "    </tr>\n",
       "    <tr>\n",
       "      <th>2632</th>\n",
       "      <td>53</td>\n",
       "      <td>66</td>\n",
       "      <td>-13 D&amp;C 6</td>\n",
       "      <td>3:54</td>\n",
       "    </tr>\n",
       "    <tr>\n",
       "      <th>2633</th>\n",
       "      <td>53</td>\n",
       "      <td>67</td>\n",
       "      <td>tand the signs of the times,</td>\n",
       "      <td>Matt. 16:3</td>\n",
       "    </tr>\n",
       "    <tr>\n",
       "      <th>2634</th>\n",
       "      <td>53</td>\n",
       "      <td>68</td>\n",
       "      <td>tegrity, overcome the world,</td>\n",
       "      <td>John 16:33</td>\n",
       "    </tr>\n",
       "  </tbody>\n",
       "</table>\n",
       "<p>2635 rows × 4 columns</p>\n",
       "</div>"
      ],
      "text/plain": [
       "      level_0  match                               0            1\n",
       "0           0      0  ean to find a new continent,    1 Ne. 13:12\n",
       "1           0      1   testimony with their blood.      D&C 135:3\n",
       "2           0      2                          D&C 13         6:39\n",
       "3           0      3  d; others were sawn asunder,     Heb. 11:37\n",
       "4           0      4  e testimony of Jesus Christ.       Rev. 6:9\n",
       "...       ...    ...                             ...          ...\n",
       "2630       53     64  showing that summer is nigh.    Matt. 24:32\n",
       "2631       53     65  e among the foolish virgins,     Matt. 25:1\n",
       "2632       53     66                       -13 D&C 6         3:54\n",
       "2633       53     67  tand the signs of the times,     Matt. 16:3\n",
       "2634       53     68  tegrity, overcome the world,     John 16:33\n",
       "\n",
       "[2635 rows x 4 columns]"
      ]
     },
     "execution_count": 16,
     "metadata": {},
     "output_type": "execute_result"
    }
   ],
   "source": [
    "pd.DataFrame(s.str.extractall(\n",
    "    \"(.{0,30})(\\d* *\\w*&?\\w*\\.? *\\d+:\\d+-?\\d*)\"\n",
    "    )).reset_index().drop(columns=[])\n"
   ]
  },
  {
   "cell_type": "code",
   "execution_count": null,
   "metadata": {},
   "outputs": [],
   "source": []
  },
  {
   "cell_type": "code",
   "execution_count": null,
   "metadata": {},
   "outputs": [],
   "source": []
  },
  {
   "cell_type": "code",
   "execution_count": null,
   "metadata": {},
   "outputs": [],
   "source": [
    "from difflib import SequenceMatcher\n",
    "\n",
    "def findMatches(str1, str2, BLOCK_MIN_LENGTH = 6):\n",
    "    sm = SequenceMatcher(lambda x: x in \" \", str1, str2)\n",
    "    finalMatches = []\n",
    "    matchesPosns = sm.get_matching_blocks()\n",
    "\n",
    "    # put together a list of matches longer than only a couple characters\n",
    "    for matchPos in matchesPosns:\n",
    "        matchLength = matchPos[2]\n",
    "        if matchLength < BLOCK_MIN_LENGTH:\n",
    "            continue\n",
    "        # print(str1[matchPos[0]:matchPos[0] + matchPos[2]])\n",
    "        finalMatches.append(matchPos)\n",
    "    return [str1[finalMatches[0][0]:finalMatches[-1][0] + finalMatches[-1][2]],\n",
    "            str2[finalMatches[0][1]:finalMatches[-1][1] + finalMatches[-1][2]]]\n"
   ]
  },
  {
   "cell_type": "code",
   "execution_count": null,
   "metadata": {},
   "outputs": [
    {
     "data": {
      "text/plain": [
       "[' holy men who wrote and spoke as they were moved upon by the Holy Ghost',\n",
       " ' holy men of God spake as they were moved by the Holy Ghost']"
      ]
     },
     "execution_count": 9,
     "metadata": {},
     "output_type": "execute_result"
    }
   ],
   "source": [
    "myStr1 = \"He has left on record through the medium of holy men who wrote and spoke as they were moved upon by the Holy Ghost\"\n",
    "myStr2 = \"For the prophecy came not in old time by the will of man: but holy men of God spake as they were moved by the Holy Ghost.\"\n",
    "findMatches(myStr1, myStr2)\n",
    "\n",
    "\n"
   ]
  },
  {
   "cell_type": "code",
   "execution_count": null,
   "metadata": {},
   "outputs": [],
   "source": []
  }
 ],
 "metadata": {
  "kernelspec": {
   "display_name": "Python 3",
   "language": "python",
   "name": "python3"
  },
  "language_info": {
   "codemirror_mode": {
    "name": "ipython",
    "version": 3
   },
   "file_extension": ".py",
   "mimetype": "text/x-python",
   "name": "python",
   "nbconvert_exporter": "python",
   "pygments_lexer": "ipython3",
   "version": "3.10.8"
  },
  "orig_nbformat": 4,
  "vscode": {
   "interpreter": {
    "hash": "44839650a47afe4f123565aa95902dbfa099a4fa6c49cc733305d4612399f7fd"
   }
  }
 },
 "nbformat": 4,
 "nbformat_minor": 2
}
