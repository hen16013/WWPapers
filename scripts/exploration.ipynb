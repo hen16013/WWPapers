{
 "cells": [
  {
   "attachments": {},
   "cell_type": "markdown",
   "metadata": {},
   "source": [
    "#### Import Statements"
   ]
  },
  {
   "cell_type": "code",
   "execution_count": 1,
   "metadata": {},
   "outputs": [],
   "source": [
    "import pandas as pd\n",
    "import altair as alt\n",
    "import numpy as np\n",
    "\n",
    "import re\n",
    "\n",
    "import time\n",
    "\n",
    "import warnings\n",
    "\n",
    "from bs4 import BeautifulSoup\n",
    "\n",
    "from selenium import webdriver\n",
    "from selenium.webdriver.common.by import By\n",
    "from selenium.webdriver.support.ui import WebDriverWait\n",
    "from selenium.webdriver.support.expected_conditions import visibility_of_element_located\n",
    "\n",
    "from difflib import SequenceMatcher\n",
    "\n"
   ]
  },
  {
   "attachments": {},
   "cell_type": "markdown",
   "metadata": {},
   "source": [
    "#### Import Scriptures from file"
   ]
  },
  {
   "cell_type": "code",
   "execution_count": 2,
   "metadata": {},
   "outputs": [],
   "source": [
    "scriptures = pd.read_csv(\"C:/Users/LeRoy12358/Documents/School/W23/499 DS - Senior Project/WWPapers/raw data/lds-scriptures.csv\")\n",
    "\n",
    "# scriptures"
   ]
  },
  {
   "attachments": {},
   "cell_type": "markdown",
   "metadata": {},
   "source": [
    "#### Web Scraping"
   ]
  },
  {
   "attachments": {},
   "cell_type": "markdown",
   "metadata": {},
   "source": [
    "##### Scraping one page and extracting list of directions for other pages to scrape"
   ]
  },
  {
   "cell_type": "code",
   "execution_count": 3,
   "metadata": {},
   "outputs": [],
   "source": [
    "browser = webdriver.Chrome()  # start a web browser\n",
    "browser.get(\"https://scriptures.byu.edu/#:t3d092:p573\")  # navigate to URL\n",
    "# wait for page to load\n",
    "# by waiting for <h1> element to appear on the page\n",
    "title = (\n",
    "    WebDriverWait(driver=browser, timeout=10)\n",
    "    .until(visibility_of_element_located((By.ID, \"jContent\")))\n",
    "    .text\n",
    ")\n",
    "# retrieve fully rendered HTML content\n",
    "content = browser.page_source\n",
    "browser.close()\n",
    "\n"
   ]
  },
  {
   "cell_type": "code",
   "execution_count": 4,
   "metadata": {},
   "outputs": [],
   "source": [
    "# # we then could parse it with beautifulsoup\n",
    "soup = BeautifulSoup(content, \"html.parser\")\n",
    "# print(soup.find(\"jContent\").text)\n",
    "# soup\n",
    "\n",
    "# soup.div['id']\n",
    "\n",
    "# print(soup.prettify())\n",
    "# content\n",
    "# soup.div.div.div\n",
    "\n",
    "soup.find(\"div\", {\"id\": \"jContent\"})\n",
    "tmp = soup.find('div', {'class': 'discourseBody'}).text\n",
    "\n",
    "# tmp.replace(\"\\xa0\", \"\")\n",
    "# tmp"
   ]
  },
  {
   "cell_type": "code",
   "execution_count": 5,
   "metadata": {},
   "outputs": [],
   "source": [
    "links = soup.find('ul', {'class': 'talksblock'})\n",
    "\n",
    "linkList = links.find_all('a', {'class': 'refcounter'})\n",
    "\n",
    "link1 = links.find('a', {'class': 'refcounter'})['onclick']\n",
    "\n",
    "# type(link1)\n",
    "link1.replace(\"getTalk('\", \"\").replace(\"');\", \"\")\n",
    "# for item in linkList:\n",
    "#     # item.replace(\"getTalk('\", \"\").replace(\"');\", \"\")\n",
    "#     # print(item)\n",
    "#     pass\n",
    "# linkList.replace(\"getTalk('\", \"\").replace(\"');\", \"\")\n",
    "\n",
    "linkList2 = []\n",
    "\n",
    "for link in soup.find_all('a', {'class': 'refcounter'}):\n",
    "    linkList2.append(\n",
    "        np.base_repr(int(\n",
    "        link.get('onclick').replace(\"getTalk('\", \"\").replace(\"');\", \"\")\n",
    "        ), 16\n",
    "        ).lower()\n",
    "        )\n",
    "    \n",
    "# http://example.com/elsie\n",
    "# http://example.com/lacie\n",
    "# http://example.com/tillie\n",
    "\n",
    "# linkList2"
   ]
  },
  {
   "attachments": {},
   "cell_type": "markdown",
   "metadata": {},
   "source": [
    "##### Scraping all the pages"
   ]
  },
  {
   "cell_type": "code",
   "execution_count": 6,
   "metadata": {},
   "outputs": [
    {
     "name": "stdout",
     "output_type": "stream",
     "text": [
      "3d092, 3a99c, Something broke, autofixing.... 3a987, 38296, 3827e, 38279, 35b8e, 35b8d, 35b8b, 35b75, 35b7e, 35b72, 35b79, 33473, 33471, Something broke, autofixing.... 3346f, 33466, 3345f, 2e662, Something broke, autofixing.... 2e65a, 2e648, Something broke, autofixing.... 2e653, 2bf3b, Something broke, autofixing.... 2bf36, 2bf2f, 2bf2e, 2bf25, 29834, Something broke, autofixing.... 2982e, 2981b, 27125, 27106, 24a1a, Something broke, autofixing.... 24a13, 249fc, 249f2, 222e1, Something broke, autofixing.... 222e6, 1fbe3, 1fbf5, 1d4f7, Something broke, autofixing.... 1d4c4, 1ade7, Something broke, autofixing.... 1add5, 1adba, 186cc, 186a3, Something broke, autofixing.... 15fd2, 15faf, Something broke, autofixing.... 15f9c, 138c6, 138c5, 1117f, ea75, Something broke, autofixing.... ea72, c37b, c363, Something broke, autofixing.... 9c7a, c35b, Something broke, autofixing.... 9c6c, Something broke, autofixing.... 9c66, 9c5f, Something broke, autofixing.... 9c54, 15fb9, Something broke, autofixing.... 4e41, "
     ]
    }
   ],
   "source": [
    "# This will likely take quite a while to run....\n",
    "\n",
    "# breaker = False\n",
    "browser = webdriver.Chrome()  # start a web browser\n",
    "pot = []\n",
    "rawPot = []\n",
    "\n",
    "for i in range(0, len(linkList2)):\n",
    "    url = linkList2[i]\n",
    "    print(url, end = \", \")\n",
    "    \n",
    "    try:\n",
    "\n",
    "\n",
    "        browser.get(\"https://scriptures.byu.edu/#:t\" + url + \":p573\")  # navigate to URL\n",
    "        # wait for page to load by waiting for <h1> element to appear on the page\n",
    "        title = (\n",
    "            WebDriverWait(driver=browser, timeout=10)\n",
    "            .until(visibility_of_element_located((By.ID, \"jContent\")))\n",
    "            .text\n",
    "        )\n",
    "        # retrieve fully rendered HTML content\n",
    "        content = browser.page_source\n",
    "\n",
    "    except:\n",
    "        print(\"Something broke, autofixing....\", end = \" \")\n",
    "        browser.close()\n",
    "        browser = webdriver.Chrome()\n",
    "        i -= 1\n",
    "        # continue\n",
    "    else:\n",
    "        # we then could parse it with beautifulsoup\n",
    "        soup = BeautifulSoup(content, \"html.parser\")\n",
    "        rawPot.append(soup.find('div', {'class': 'discourseBody'}))\n",
    "        pot.append(soup.find('div', {'class': 'discourseBody'}).text)\n",
    "        # pot.append(soup.find_all('a', {'href': 'discourseBody'}))\n",
    "        time.sleep(.11)\n",
    "    \n",
    "browser.close()\n",
    "    # if(breaker):\n",
    "    #     break\n",
    "    # breaker = True\n",
    "    "
   ]
  },
  {
   "attachments": {},
   "cell_type": "markdown",
   "metadata": {},
   "source": [
    "#### All the parsing"
   ]
  },
  {
   "attachments": {},
   "cell_type": "markdown",
   "metadata": {},
   "source": [
    "###### Extracting list of references from a single talk"
   ]
  },
  {
   "cell_type": "code",
   "execution_count": 7,
   "metadata": {},
   "outputs": [
    {
     "name": "stdout",
     "output_type": "stream",
     "text": [
      "['1 Ne. 13:12', 'D&C 135:3', 'D&C 136:39', 'Heb. 11:37', 'Rev. 6:9', '2 Pet. 1:21', 'Gen. 2:7', 'Isa. 31:1', 'Prov. 14:34', 'Gal. 6:7', 'Matt. 7:2', 'Isa. 40:1-3', 'Jer. 31:1-14', 'Ezek. 20:33-44', 'D&C 5:14', 'D&C 33:5', 'D&C 109:73', 'Eph. 2:20', '1 Pet. 2:6', 'Dan. 2:44', 'Dan. 2:34-35', 'D&C 65:2', 'Dan. 2:44', 'Isa. 2:2-3', 'Rev. 1:9', 'Rev. 14:6-7', 'Rev. 1:9', 'Rev. 6:9', 'D&C 13:1', 'D&C 27:8', 'JS-H 1:68-72', 'D&C 27:12', 'John 15:19', 'Isa. 60:22', 'Rom. 1:16', 'D&C 84:33', 'D&C 84:38-39', 'D&C 84:41', 'Micah 3:11', 'Acts 19:27', '1 Cor. 12:28', 'Eph. 2:20', 'Isa. 14:12', 'D&C 76:26', 'Jer. 25:31', 'Luke 21:24', 'Rev. 5:9', 'Rev. 8:6', 'Rev. 16:1', 'Rev. 21:9', 'Rev. 16:19', 'Isa. 34:5-6', 'D&C 1:36', 'Heb. 11:3', 'Heb. 11:7', 'Gen. 6:3', 'Moses 8:17', 'Heb. 11:8', 'Deut. 20:3', 'D&C 103:19', 'D&C 88:2', 'D&C 98:2', 'D&C 58:22', 'Hosea 8:7', '3 Ne. 27:27', 'Luke 17:33', 'Eph. 4:10', 'D&C 88:6', 'D&C 122:8', 'D&C 122:8', 'Rev. 2:10']\n"
     ]
    }
   ],
   "source": [
    "\n",
    "# extracting a list of references \n",
    "def extractReferences(soup):\n",
    "    citationList = soup.find_all('span', {'class': 'citation'})\n",
    "\n",
    "    soupReferenceList = []\n",
    "    for citation in citationList:\n",
    "        soupReferenceList.append(\n",
    "        citation.find_all('a', {'href': 'javascript:void(0)'})[1].text.replace(\"—\", \"-\")\n",
    "        )\n",
    "        # print(citation.find('span', {'class': 'citation'}))\n",
    "    \n",
    "    return soupReferenceList\n",
    "\n",
    "# creating a variable containing only the first speech\n",
    "tmp = rawPot[0]\n",
    "referenceList = extractReferences(tmp)\n",
    "\n",
    "print(referenceList)"
   ]
  },
  {
   "cell_type": "code",
   "execution_count": 8,
   "metadata": {},
   "outputs": [],
   "source": [
    "# \"-\" in \"—\""
   ]
  },
  {
   "cell_type": "code",
   "execution_count": 9,
   "metadata": {},
   "outputs": [],
   "source": [
    "# pd.set_option('display.max_rows', 100)\n",
    "\n",
    "# scriptures#.verse_short_title.value_counts()\n",
    "# scriptures.book_short_title.value_counts().reset_index()"
   ]
  },
  {
   "cell_type": "code",
   "execution_count": 10,
   "metadata": {},
   "outputs": [
    {
     "data": {
      "text/plain": [
       "'Upon you my fellow servants, in the name of Messiah, I confer the Priesthood of Aaron, which holds the keys of the ministering of angels, and of the gospel of repentance, and of baptism by immersion for the remission of sins; and this shall never be taken again from the earth until the sons of Levi do offer again an offering unto the Lord in righteousness.'"
      ]
     },
     "execution_count": 10,
     "metadata": {},
     "output_type": "execute_result"
    }
   ],
   "source": [
    "# scriptures.query(\"verse_short_title == 'JS-H 1:69'\")\n",
    "\n",
    "fullReference = 'JS-H 1:69'\n",
    "\n",
    "scriptures.query(\"verse_short_title == @fullReference\").scripture_text.iloc[0]"
   ]
  },
  {
   "cell_type": "code",
   "execution_count": null,
   "metadata": {},
   "outputs": [],
   "source": []
  },
  {
   "cell_type": "code",
   "execution_count": 11,
   "metadata": {},
   "outputs": [],
   "source": [
    "# This cell's (function's) job is to take a scripture reference as held in referenceList and return the scripture contents\n",
    "\n",
    "def scriptureFromReference(reference):\n",
    "    if \"-\" in reference: # Isa. 40:1-3\n",
    "        bookCh, verses = reference.split(\":\") #[Isa. 40, 1-3]\n",
    "        verseStart, verseEnd = verses.split(\"-\") # Isa. 40, 1, 3\n",
    "        specificScripture = \"\"\n",
    "        for i in range(int(verseStart), int(verseEnd) + 1):\n",
    "            fullReference = bookCh + \":\" + str(i)\n",
    "            specificScripture = specificScripture + scriptures.query(\n",
    "                \"verse_short_title == @fullReference\").scripture_text.iloc[0]\n",
    "        return specificScripture\n",
    "    else:\n",
    "        specificScripture = scriptures.query(\"verse_short_title == @reference\").scripture_text.iloc[0]\n",
    "    return(specificScripture)\n",
    "\n",
    "# result = scriptureFromReference(referenceList[3])#\"Heb. 11:37\")\n",
    "# scriptureFromReference(referenceList[2])\n",
    "# scriptureFromReference(referenceList[9])\n",
    "# result\n",
    "\n",
    "# takes an iterable list of scripture references and returns an iterable list of the contents of each\n",
    "def scriptureFromReferenceVectorized(refList, resultList):\n",
    "    # resultList = []\n",
    "    # resultList = pd.Series(resultList, dtype = object)\n",
    "    # print(type(resultList))\n",
    "    for ref in refList:\n",
    "        # resultList = pd.concat([resultList, pd.Series(scriptureFromReference(ref), dtype = object)])\n",
    "        resultList.append(scriptureFromReference(ref))\n",
    "    return resultList\n",
    "\n",
    "# resultList = []\n",
    "# scriptureFromReferenceVectorized(referenceList)\n",
    "# scriptureFromReferenceVectorized([referenceList[0], referenceList[1], referenceList[2]])\n",
    "# type(referenceList)\n",
    "# referenceList.str.len()\n",
    "\n",
    "# scriptureFromReference(\"Isa. 40:1-3\")\n"
   ]
  },
  {
   "cell_type": "code",
   "execution_count": null,
   "metadata": {},
   "outputs": [],
   "source": []
  },
  {
   "cell_type": "code",
   "execution_count": 12,
   "metadata": {},
   "outputs": [],
   "source": [
    "# resultList = []\n",
    "# # resultList = pd.Series(resultList, dtype = object)\n",
    "# # print(type(resultList))\n",
    "# for ref in referenceList:\n",
    "#     # resultList = pd.concat([resultList, pd.Series(scriptureFromReference(ref), dtype = object)])\n",
    "#     resultList.append(scriptureFromReference(ref))\n",
    "# # print(scriptureFromReference(ref))\n",
    "# # print(scriptureFromReferenceVectorized(referenceList))\n",
    "# print(resultList)"
   ]
  },
  {
   "cell_type": "code",
   "execution_count": 13,
   "metadata": {},
   "outputs": [],
   "source": [
    "# TODO:\n",
    "# How to find references in the string and copy preceding 100chars?\n",
    "# How to handle duplicate references at different points in the string?\n",
    "#   -- could ignore duplicates. Would potentially be rare to reference the same scripture too many times in the talk?\n",
    "# dupes handled and problem solved?\n",
    "\n",
    "myTmp = pd.Series(rawPot[0].text.replace(\"\\xa0\", \"\"))\n",
    "\n",
    "surrCharSets = pd.DataFrame(columns = [\"charSet\", \"ref\"])\n",
    "# surrCharSets.columns = [\"charSet\", \"ref\"]\n",
    "\n",
    "for ref in referenceList:\n",
    "    with warnings.catch_warnings():\n",
    "        warnings.simplefilter(\"ignore\")\n",
    "        singleCharPair = myTmp.str.extract(\"(.{100})(\" + ref + \")\")\n",
    "        singleCharPair.columns = [\"charSet\", \"ref\"]\n",
    "        surrCharSets = pd.concat([surrCharSets, singleCharPair], ignore_index= True)\n",
    "        myTmp = myTmp.str.replace(ref, \"\", n = 1) # remove the just found instance of the reference\n",
    "    # print(ref, end = \"\")"
   ]
  },
  {
   "cell_type": "code",
   "execution_count": 14,
   "metadata": {},
   "outputs": [
    {
     "data": {
      "text/html": [
       "<div>\n",
       "<style scoped>\n",
       "    .dataframe tbody tr th:only-of-type {\n",
       "        vertical-align: middle;\n",
       "    }\n",
       "\n",
       "    .dataframe tbody tr th {\n",
       "        vertical-align: top;\n",
       "    }\n",
       "\n",
       "    .dataframe thead th {\n",
       "        text-align: right;\n",
       "    }\n",
       "</style>\n",
       "<table border=\"1\" class=\"dataframe\">\n",
       "  <thead>\n",
       "    <tr style=\"text-align: right;\">\n",
       "      <th></th>\n",
       "      <th>charSet</th>\n",
       "      <th>ref</th>\n",
       "      <th>scriptureContents</th>\n",
       "    </tr>\n",
       "  </thead>\n",
       "  <tbody>\n",
       "    <tr>\n",
       "      <th>0</th>\n",
       "      <td>ases. When Columbus was moved upon by the Spir...</td>\n",
       "      <td>1 Ne. 13:12</td>\n",
       "      <td>And I looked and beheld a man among the Gentil...</td>\n",
       "    </tr>\n",
       "    <tr>\n",
       "      <th>1</th>\n",
       "      <td>elator—who escaped. They all died violent deat...</td>\n",
       "      <td>D&amp;C 135:3</td>\n",
       "      <td>Joseph Smith, the Prophet and Seer of the Lord...</td>\n",
       "    </tr>\n",
       "    <tr>\n",
       "      <th>2</th>\n",
       "      <td>elator—who escaped. They all died violent deat...</td>\n",
       "      <td>D&amp;C 136:39</td>\n",
       "      <td>Many have marveled because of his death; but i...</td>\n",
       "    </tr>\n",
       "    <tr>\n",
       "      <th>3</th>\n",
       "      <td>s. They had to seal their testimony with their...</td>\n",
       "      <td>Heb. 11:37</td>\n",
       "      <td>They were stoned, they were sawn asunder, were...</td>\n",
       "    </tr>\n",
       "    <tr>\n",
       "      <th>4</th>\n",
       "      <td>under, beheaded, or in some way put to death f...</td>\n",
       "      <td>Rev. 6:9</td>\n",
       "      <td>And when he had opened the fifth seal, I saw u...</td>\n",
       "    </tr>\n",
       "    <tr>\n",
       "      <th>...</th>\n",
       "      <td>...</td>\n",
       "      <td>...</td>\n",
       "      <td>...</td>\n",
       "    </tr>\n",
       "    <tr>\n",
       "      <th>66</th>\n",
       "      <td>since the creation of the world for the sake o...</td>\n",
       "      <td>Eph. 4:10</td>\n",
       "      <td>He that descended is the same also that ascend...</td>\n",
       "    </tr>\n",
       "    <tr>\n",
       "      <th>67</th>\n",
       "      <td>since the creation of the world for the sake o...</td>\n",
       "      <td>D&amp;C 88:6</td>\n",
       "      <td>He that ascended up on high, as also he descen...</td>\n",
       "    </tr>\n",
       "    <tr>\n",
       "      <th>68</th>\n",
       "      <td>since the creation of the world for the sake o...</td>\n",
       "      <td>D&amp;C 122:8</td>\n",
       "      <td>The Son of Man hath descended below them all. ...</td>\n",
       "    </tr>\n",
       "    <tr>\n",
       "      <th>69</th>\n",
       "      <td>descended, I believe, lower than any other man...</td>\n",
       "      <td>D&amp;C 122:8</td>\n",
       "      <td>The Son of Man hath descended below them all. ...</td>\n",
       "    </tr>\n",
       "    <tr>\n",
       "      <th>70</th>\n",
       "      <td>God that this may be our lot, that we may be t...</td>\n",
       "      <td>Rev. 2:10</td>\n",
       "      <td>Fear none of those things which thou shalt suf...</td>\n",
       "    </tr>\n",
       "  </tbody>\n",
       "</table>\n",
       "<p>71 rows × 3 columns</p>\n",
       "</div>"
      ],
      "text/plain": [
       "                                              charSet          ref  \\\n",
       "0   ases. When Columbus was moved upon by the Spir...  1 Ne. 13:12   \n",
       "1   elator—who escaped. They all died violent deat...    D&C 135:3   \n",
       "2   elator—who escaped. They all died violent deat...   D&C 136:39   \n",
       "3   s. They had to seal their testimony with their...   Heb. 11:37   \n",
       "4   under, beheaded, or in some way put to death f...     Rev. 6:9   \n",
       "..                                                ...          ...   \n",
       "66  since the creation of the world for the sake o...    Eph. 4:10   \n",
       "67  since the creation of the world for the sake o...     D&C 88:6   \n",
       "68  since the creation of the world for the sake o...    D&C 122:8   \n",
       "69  descended, I believe, lower than any other man...    D&C 122:8   \n",
       "70  God that this may be our lot, that we may be t...    Rev. 2:10   \n",
       "\n",
       "                                    scriptureContents  \n",
       "0   And I looked and beheld a man among the Gentil...  \n",
       "1   Joseph Smith, the Prophet and Seer of the Lord...  \n",
       "2   Many have marveled because of his death; but i...  \n",
       "3   They were stoned, they were sawn asunder, were...  \n",
       "4   And when he had opened the fifth seal, I saw u...  \n",
       "..                                                ...  \n",
       "66  He that descended is the same also that ascend...  \n",
       "67  He that ascended up on high, as also he descen...  \n",
       "68  The Son of Man hath descended below them all. ...  \n",
       "69  The Son of Man hath descended below them all. ...  \n",
       "70  Fear none of those things which thou shalt suf...  \n",
       "\n",
       "[71 rows x 3 columns]"
      ]
     },
     "execution_count": 14,
     "metadata": {},
     "output_type": "execute_result"
    }
   ],
   "source": [
    "resultList2 = []\n",
    "# resultList2 = pd.Series(resultList2)\n",
    "\n",
    "# resultList2 = \n",
    "scriptureFromReferenceVectorized(referenceList, resultList2)\n",
    "\n",
    "# print(resultList2)\n",
    "\n",
    "surrCharSets['scriptureContents'] = resultList2\n",
    "\n",
    "surrCharSets"
   ]
  },
  {
   "cell_type": "code",
   "execution_count": 15,
   "metadata": {},
   "outputs": [],
   "source": [
    "# for ref in surrCharSets.ref:\n",
    "#     print(ref)"
   ]
  },
  {
   "cell_type": "code",
   "execution_count": 16,
   "metadata": {},
   "outputs": [],
   "source": [
    "# # surrCharSets['refContents'] = scriptureFromReferenceVectorized(surrCharSets.ref)\n",
    "# # surrCharSets['refContents'] = scriptureFromReferenceVectorized(surrCharSets.ref)\n",
    "# # surrCharSets = surrCharSets.assign(refContents = lambda x: scriptureFromReference(x.ref))\n",
    "\n",
    "# # map(fun, iter)\n",
    "\n",
    "# pd.Series(map(scriptureFromReference, surrCharSets.ref))\n",
    "\n",
    "# # surrCharSets['refContents'] = 3\n",
    "\n",
    "# # surrCharSets"
   ]
  },
  {
   "cell_type": "code",
   "execution_count": 17,
   "metadata": {},
   "outputs": [
    {
     "data": {
      "text/html": [
       "<div>\n",
       "<style scoped>\n",
       "    .dataframe tbody tr th:only-of-type {\n",
       "        vertical-align: middle;\n",
       "    }\n",
       "\n",
       "    .dataframe tbody tr th {\n",
       "        vertical-align: top;\n",
       "    }\n",
       "\n",
       "    .dataframe thead th {\n",
       "        text-align: right;\n",
       "    }\n",
       "</style>\n",
       "<table border=\"1\" class=\"dataframe\">\n",
       "  <thead>\n",
       "    <tr style=\"text-align: right;\">\n",
       "      <th></th>\n",
       "      <th>charSet</th>\n",
       "      <th>ref</th>\n",
       "      <th>scriptureContents</th>\n",
       "    </tr>\n",
       "  </thead>\n",
       "  <tbody>\n",
       "    <tr>\n",
       "      <th>0</th>\n",
       "      <td>ases. When Columbus was moved upon by the Spir...</td>\n",
       "      <td>1 Ne. 13:12</td>\n",
       "      <td>And I looked and beheld a man among the Gentil...</td>\n",
       "    </tr>\n",
       "    <tr>\n",
       "      <th>1</th>\n",
       "      <td>elator—who escaped. They all died violent deat...</td>\n",
       "      <td>D&amp;C 135:3</td>\n",
       "      <td>Joseph Smith, the Prophet and Seer of the Lord...</td>\n",
       "    </tr>\n",
       "    <tr>\n",
       "      <th>2</th>\n",
       "      <td>elator—who escaped. They all died violent deat...</td>\n",
       "      <td>D&amp;C 136:39</td>\n",
       "      <td>Many have marveled because of his death; but i...</td>\n",
       "    </tr>\n",
       "    <tr>\n",
       "      <th>3</th>\n",
       "      <td>s. They had to seal their testimony with their...</td>\n",
       "      <td>Heb. 11:37</td>\n",
       "      <td>They were stoned, they were sawn asunder, were...</td>\n",
       "    </tr>\n",
       "    <tr>\n",
       "      <th>4</th>\n",
       "      <td>under, beheaded, or in some way put to death f...</td>\n",
       "      <td>Rev. 6:9</td>\n",
       "      <td>And when he had opened the fifth seal, I saw u...</td>\n",
       "    </tr>\n",
       "    <tr>\n",
       "      <th>...</th>\n",
       "      <td>...</td>\n",
       "      <td>...</td>\n",
       "      <td>...</td>\n",
       "    </tr>\n",
       "    <tr>\n",
       "      <th>66</th>\n",
       "      <td>since the creation of the world for the sake o...</td>\n",
       "      <td>Eph. 4:10</td>\n",
       "      <td>He that descended is the same also that ascend...</td>\n",
       "    </tr>\n",
       "    <tr>\n",
       "      <th>67</th>\n",
       "      <td>since the creation of the world for the sake o...</td>\n",
       "      <td>D&amp;C 88:6</td>\n",
       "      <td>He that ascended up on high, as also he descen...</td>\n",
       "    </tr>\n",
       "    <tr>\n",
       "      <th>68</th>\n",
       "      <td>since the creation of the world for the sake o...</td>\n",
       "      <td>D&amp;C 122:8</td>\n",
       "      <td>The Son of Man hath descended below them all. ...</td>\n",
       "    </tr>\n",
       "    <tr>\n",
       "      <th>69</th>\n",
       "      <td>descended, I believe, lower than any other man...</td>\n",
       "      <td>D&amp;C 122:8</td>\n",
       "      <td>The Son of Man hath descended below them all. ...</td>\n",
       "    </tr>\n",
       "    <tr>\n",
       "      <th>70</th>\n",
       "      <td>God that this may be our lot, that we may be t...</td>\n",
       "      <td>Rev. 2:10</td>\n",
       "      <td>Fear none of those things which thou shalt suf...</td>\n",
       "    </tr>\n",
       "  </tbody>\n",
       "</table>\n",
       "<p>71 rows × 3 columns</p>\n",
       "</div>"
      ],
      "text/plain": [
       "                                              charSet          ref  \\\n",
       "0   ases. When Columbus was moved upon by the Spir...  1 Ne. 13:12   \n",
       "1   elator—who escaped. They all died violent deat...    D&C 135:3   \n",
       "2   elator—who escaped. They all died violent deat...   D&C 136:39   \n",
       "3   s. They had to seal their testimony with their...   Heb. 11:37   \n",
       "4   under, beheaded, or in some way put to death f...     Rev. 6:9   \n",
       "..                                                ...          ...   \n",
       "66  since the creation of the world for the sake o...    Eph. 4:10   \n",
       "67  since the creation of the world for the sake o...     D&C 88:6   \n",
       "68  since the creation of the world for the sake o...    D&C 122:8   \n",
       "69  descended, I believe, lower than any other man...    D&C 122:8   \n",
       "70  God that this may be our lot, that we may be t...    Rev. 2:10   \n",
       "\n",
       "                                    scriptureContents  \n",
       "0   And I looked and beheld a man among the Gentil...  \n",
       "1   Joseph Smith, the Prophet and Seer of the Lord...  \n",
       "2   Many have marveled because of his death; but i...  \n",
       "3   They were stoned, they were sawn asunder, were...  \n",
       "4   And when he had opened the fifth seal, I saw u...  \n",
       "..                                                ...  \n",
       "66  He that descended is the same also that ascend...  \n",
       "67  He that ascended up on high, as also he descen...  \n",
       "68  The Son of Man hath descended below them all. ...  \n",
       "69  The Son of Man hath descended below them all. ...  \n",
       "70  Fear none of those things which thou shalt suf...  \n",
       "\n",
       "[71 rows x 3 columns]"
      ]
     },
     "execution_count": 17,
     "metadata": {},
     "output_type": "execute_result"
    }
   ],
   "source": [
    "singleRefCharPairSeries = myTmp.str.extract(\"(.{100})(\" + ref + \")\")\n",
    "singleRefCharPairDf = pd.DataFrame(data = {\"charSet\": singleRefCharPairSeries[0], \"ref\": singleRefCharPairSeries[1]})\n",
    "# type(singleRefCharPairDf)\n",
    "singleRefCharPairSeries.columns = [\"charSet\", \"ref\"]\n",
    "pd.concat([singleRefCharPairSeries, singleRefCharPairDf])\n",
    "# singleRefCharPairDf\n",
    "\n",
    "surrCharSets"
   ]
  },
  {
   "cell_type": "code",
   "execution_count": 30,
   "metadata": {},
   "outputs": [],
   "source": [
    "pd.set_option('display.max_rows', 100)\n",
    "\n",
    "# s[0]"
   ]
  },
  {
   "cell_type": "code",
   "execution_count": null,
   "metadata": {},
   "outputs": [],
   "source": []
  },
  {
   "cell_type": "code",
   "execution_count": 31,
   "metadata": {},
   "outputs": [
    {
     "data": {
      "text/html": [
       "<div>\n",
       "<style scoped>\n",
       "    .dataframe tbody tr th:only-of-type {\n",
       "        vertical-align: middle;\n",
       "    }\n",
       "\n",
       "    .dataframe tbody tr th {\n",
       "        vertical-align: top;\n",
       "    }\n",
       "\n",
       "    .dataframe thead th {\n",
       "        text-align: right;\n",
       "    }\n",
       "</style>\n",
       "<table border=\"1\" class=\"dataframe\">\n",
       "  <thead>\n",
       "    <tr style=\"text-align: right;\">\n",
       "      <th></th>\n",
       "      <th>level_0</th>\n",
       "      <th>match</th>\n",
       "      <th>0</th>\n",
       "      <th>1</th>\n",
       "    </tr>\n",
       "  </thead>\n",
       "  <tbody>\n",
       "    <tr>\n",
       "      <th>0</th>\n",
       "      <td>0</td>\n",
       "      <td>0</td>\n",
       "      <td>ean to find a new continent,</td>\n",
       "      <td>1 Ne. 13:12</td>\n",
       "    </tr>\n",
       "    <tr>\n",
       "      <th>1</th>\n",
       "      <td>0</td>\n",
       "      <td>1</td>\n",
       "      <td>testimony with their blood.</td>\n",
       "      <td>D&amp;C 135:3</td>\n",
       "    </tr>\n",
       "    <tr>\n",
       "      <th>2</th>\n",
       "      <td>0</td>\n",
       "      <td>2</td>\n",
       "      <td>D&amp;C 13</td>\n",
       "      <td>6:39</td>\n",
       "    </tr>\n",
       "    <tr>\n",
       "      <th>3</th>\n",
       "      <td>0</td>\n",
       "      <td>3</td>\n",
       "      <td>d; others were sawn asunder,</td>\n",
       "      <td>Heb. 11:37</td>\n",
       "    </tr>\n",
       "    <tr>\n",
       "      <th>4</th>\n",
       "      <td>0</td>\n",
       "      <td>4</td>\n",
       "      <td>e testimony of Jesus Christ.</td>\n",
       "      <td>Rev. 6:9</td>\n",
       "    </tr>\n",
       "    <tr>\n",
       "      <th>...</th>\n",
       "      <td>...</td>\n",
       "      <td>...</td>\n",
       "      <td>...</td>\n",
       "      <td>...</td>\n",
       "    </tr>\n",
       "    <tr>\n",
       "      <th>2207</th>\n",
       "      <td>46</td>\n",
       "      <td>64</td>\n",
       "      <td>showing that summer is nigh.</td>\n",
       "      <td>Matt. 24:32</td>\n",
       "    </tr>\n",
       "    <tr>\n",
       "      <th>2208</th>\n",
       "      <td>46</td>\n",
       "      <td>65</td>\n",
       "      <td>e among the foolish virgins,</td>\n",
       "      <td>Matt. 25:1-13</td>\n",
       "    </tr>\n",
       "    <tr>\n",
       "      <th>2209</th>\n",
       "      <td>46</td>\n",
       "      <td>66</td>\n",
       "      <td>D&amp;C 6</td>\n",
       "      <td>3:54</td>\n",
       "    </tr>\n",
       "    <tr>\n",
       "      <th>2210</th>\n",
       "      <td>46</td>\n",
       "      <td>67</td>\n",
       "      <td>tand the signs of the times,</td>\n",
       "      <td>Matt. 16:3</td>\n",
       "    </tr>\n",
       "    <tr>\n",
       "      <th>2211</th>\n",
       "      <td>46</td>\n",
       "      <td>68</td>\n",
       "      <td>tegrity, overcome the world,</td>\n",
       "      <td>John 16:33</td>\n",
       "    </tr>\n",
       "  </tbody>\n",
       "</table>\n",
       "<p>2212 rows × 4 columns</p>\n",
       "</div>"
      ],
      "text/plain": [
       "      level_0  match                               0              1\n",
       "0           0      0  ean to find a new continent,      1 Ne. 13:12\n",
       "1           0      1   testimony with their blood.        D&C 135:3\n",
       "2           0      2                          D&C 13           6:39\n",
       "3           0      3  d; others were sawn asunder,       Heb. 11:37\n",
       "4           0      4  e testimony of Jesus Christ.         Rev. 6:9\n",
       "...       ...    ...                             ...            ...\n",
       "2207       46     64  showing that summer is nigh.      Matt. 24:32\n",
       "2208       46     65  e among the foolish virgins,    Matt. 25:1-13\n",
       "2209       46     66                           D&C 6           3:54\n",
       "2210       46     67  tand the signs of the times,       Matt. 16:3\n",
       "2211       46     68  tegrity, overcome the world,       John 16:33\n",
       "\n",
       "[2212 rows x 4 columns]"
      ]
     },
     "execution_count": 31,
     "metadata": {},
     "output_type": "execute_result"
    }
   ],
   "source": [
    "pd.DataFrame(s.str.extractall(\n",
    "    \"(.{0,30})(\\d* *\\w*&?\\w*\\.? *\\d+:\\d+-?\\d*)\"\n",
    "    )).reset_index().drop(columns=[])\n"
   ]
  },
  {
   "cell_type": "code",
   "execution_count": 20,
   "metadata": {},
   "outputs": [],
   "source": [
    "\n",
    "def findMatches(str1, str2, BLOCK_MIN_LENGTH = 8):\n",
    "    sm = SequenceMatcher(lambda x: x in \" \", str1, str2)\n",
    "    finalMatches = []\n",
    "    matchesPosns = sm.get_matching_blocks()\n",
    "\n",
    "    # put together a list of matches longer than only a couple characters\n",
    "    for matchPos in matchesPosns:\n",
    "        matchLength = matchPos[2]\n",
    "        if matchLength < BLOCK_MIN_LENGTH:\n",
    "            continue\n",
    "        # print(str1[matchPos[0]:matchPos[0] + matchPos[2]])\n",
    "        finalMatches.append(matchPos)\n",
    "    return [str1[finalMatches[0][0]:finalMatches[-1][0] + finalMatches[-1][2]],\n",
    "            str2[finalMatches[0][1]:finalMatches[-1][1] + finalMatches[-1][2]]]\n"
   ]
  },
  {
   "cell_type": "code",
   "execution_count": 21,
   "metadata": {},
   "outputs": [
    {
     "data": {
      "text/plain": [
       "[' holy men who wrote and spoke as they were moved upon by the Holy Ghost',\n",
       " ' holy men of God spake as they were moved by the Holy Ghost']"
      ]
     },
     "execution_count": 21,
     "metadata": {},
     "output_type": "execute_result"
    }
   ],
   "source": [
    "# TODO: need more training data / specific checks for this findMatches function\n",
    "\n",
    "myStr1 = \"He has left on record through the medium of holy men who wrote and spoke as they were moved upon by the Holy Ghost\"\n",
    "myStr2 = \"For the prophecy came not in old time by the will of man: but holy men of God spake as they were moved by the Holy Ghost.\"\n",
    "\n",
    "findMatches(myStr1, myStr2)"
   ]
  },
  {
   "cell_type": "code",
   "execution_count": null,
   "metadata": {},
   "outputs": [],
   "source": [
    "for row in "
   ]
  },
  {
   "attachments": {},
   "cell_type": "markdown",
   "metadata": {},
   "source": [
    "##### String Matching Attempt using vectorization of words\n",
    "Computation-intensive"
   ]
  },
  {
   "cell_type": "code",
   "execution_count": 23,
   "metadata": {},
   "outputs": [],
   "source": [
    "\n",
    "# pip install -U sentence-transformers\n",
    "\n",
    "from sentence_transformers import SentenceTransformer, util\n"
   ]
  },
  {
   "cell_type": "code",
   "execution_count": 24,
   "metadata": {},
   "outputs": [],
   "source": [
    "\n",
    "sentences = [\"I'm happy\", \"I'm full of happiness\"]\n"
   ]
  },
  {
   "cell_type": "code",
   "execution_count": 25,
   "metadata": {},
   "outputs": [],
   "source": [
    "\n",
    "model = SentenceTransformer('sentence-transformers/all-MiniLM-L6-v2')\n"
   ]
  },
  {
   "cell_type": "code",
   "execution_count": 26,
   "metadata": {},
   "outputs": [],
   "source": [
    "\n",
    "#Compute embedding for both lists\n",
    "# Note from E: interesting - encodings must be computed individually....\n",
    "embedding_1= model.encode(sentences[0], convert_to_tensor=True) \n",
    "embedding_2 = model.encode(sentences[1], convert_to_tensor=True)\n"
   ]
  },
  {
   "cell_type": "code",
   "execution_count": 27,
   "metadata": {},
   "outputs": [
    {
     "data": {
      "text/plain": [
       "tensor([[0.6003]])"
      ]
     },
     "execution_count": 27,
     "metadata": {},
     "output_type": "execute_result"
    }
   ],
   "source": [
    "\n",
    "util.pytorch_cos_sim(embedding_1, embedding_2)\n",
    "## tensor([[0.6003]])\n",
    "\n"
   ]
  },
  {
   "cell_type": "code",
   "execution_count": 28,
   "metadata": {},
   "outputs": [],
   "source": [
    "\n",
    "## TODO for the upgraded string matching function:\n",
    "# convert each string into a list of individual words\n",
    "# --- ACTUALLY DON'T - because the encoding functions are for the full strings\n",
    "# compute similarity score for the sentence pair (one score - to each other)\n",
    "# save score and both 'current best phrases' (perhaps remember top 5 values and pairs?)\n",
    "# repetitively cut off words from the start/end of first/second sentence \n",
    "# --- (alternating? - NOT ALTERNATING - NEED A CLEAR SIGNAL OF \"DEAD END\")\n",
    "# track recent sim scores and when sim score drops for too many iterations in a row, revert to \"best\"\n",
    "# --- plus a couple words? but def less than previous 'max'?\n",
    "# --- comparing how fast match rate rises/drops?"
   ]
  }
 ],
 "metadata": {
  "kernelspec": {
   "display_name": "Python 3",
   "language": "python",
   "name": "python3"
  },
  "language_info": {
   "codemirror_mode": {
    "name": "ipython",
    "version": 3
   },
   "file_extension": ".py",
   "mimetype": "text/x-python",
   "name": "python",
   "nbconvert_exporter": "python",
   "pygments_lexer": "ipython3",
   "version": "3.10.8"
  },
  "orig_nbformat": 4,
  "vscode": {
   "interpreter": {
    "hash": "44839650a47afe4f123565aa95902dbfa099a4fa6c49cc733305d4612399f7fd"
   }
  }
 },
 "nbformat": 4,
 "nbformat_minor": 2
}
