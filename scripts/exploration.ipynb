{
 "cells": [
  {
   "cell_type": "code",
   "execution_count": 170,
   "metadata": {},
   "outputs": [],
   "source": [
    "import pandas as pd\n",
    "import altair as alt\n",
    "import numpy as np\n",
    "import time\n",
    "from bs4 import BeautifulSoup\n",
    "from selenium import webdriver\n",
    "from selenium.webdriver.common.by import By\n",
    "from selenium.webdriver.support.ui import WebDriverWait\n",
    "from selenium.webdriver.support.expected_conditions import visibility_of_element_located\n",
    "\n",
    "scriptures = pd.read_csv(\"C:/Users/LeRoy12358/Documents/School/W23/499 DS - Senior Project/WWPapers/raw data/lds-scriptures.csv\")\n",
    "\n",
    "# scriptures"
   ]
  },
  {
   "cell_type": "code",
   "execution_count": 165,
   "metadata": {},
   "outputs": [],
   "source": [
    "browser = webdriver.Chrome()  # start a web browser\n",
    "browser.get(\"https://scriptures.byu.edu/#:t3d092:p573\")  # navigate to URL\n",
    "# wait for page to load\n",
    "# by waiting for <h1> element to appear on the page\n",
    "title = (\n",
    "    WebDriverWait(driver=browser, timeout=10)\n",
    "    .until(visibility_of_element_located((By.ID, \"jContent\")))\n",
    "    .text\n",
    ")\n",
    "# retrieve fully rendered HTML content\n",
    "content = browser.page_source\n",
    "browser.close()\n",
    "\n"
   ]
  },
  {
   "cell_type": "code",
   "execution_count": 5,
   "metadata": {},
   "outputs": [],
   "source": [
    "# # we then could parse it with beautifulsoup\n",
    "soup = BeautifulSoup(content, \"html.parser\")\n",
    "# print(soup.find(\"jContent\").text)\n",
    "# soup\n",
    "\n",
    "soup.div['id']\n",
    "\n",
    "# print(soup.prettify())\n",
    "# content\n",
    "# soup.div.div.div\n",
    "\n",
    "soup.find(\"div\", {\"id\": \"jContent\"})\n",
    "tmp = soup.find('div', {'class': 'discourseBody'}).text\n",
    "\n",
    "# tmp.replace(\"\\xa0\", \"\")\n",
    "# tmp"
   ]
  },
  {
   "cell_type": "code",
   "execution_count": 66,
   "metadata": {},
   "outputs": [
    {
     "data": {
      "text/plain": [
       "['3d092',\n",
       " '3a99c',\n",
       " '3a987',\n",
       " '38296',\n",
       " '3827e',\n",
       " '38279',\n",
       " '35b8e',\n",
       " '35b8d',\n",
       " '35b8b',\n",
       " '35b75',\n",
       " '35b7e',\n",
       " '35b72',\n",
       " '35b79',\n",
       " '33473',\n",
       " '33471',\n",
       " '3346f',\n",
       " '33466',\n",
       " '3345f',\n",
       " '2e662',\n",
       " '2e65a',\n",
       " '2e648',\n",
       " '2e653',\n",
       " '2bf3b',\n",
       " '2bf36',\n",
       " '2bf2f',\n",
       " '2bf2e',\n",
       " '2bf25',\n",
       " '29834',\n",
       " '2982e',\n",
       " '2981b',\n",
       " '27125',\n",
       " '27106',\n",
       " '24a1a',\n",
       " '24a13',\n",
       " '249fc',\n",
       " '249f2',\n",
       " '222e1',\n",
       " '222e6',\n",
       " '1fbe3',\n",
       " '1fbf5',\n",
       " '1d4f7',\n",
       " '1d4c4',\n",
       " '1ade7',\n",
       " '1add5',\n",
       " '1adba',\n",
       " '186cc',\n",
       " '186a3',\n",
       " '15fd2',\n",
       " '15faf',\n",
       " '15f9c',\n",
       " '138c6',\n",
       " '138c5',\n",
       " '1117f',\n",
       " 'ea75',\n",
       " 'ea72',\n",
       " 'c37b',\n",
       " 'c363',\n",
       " '9c7a',\n",
       " 'c35b',\n",
       " '9c6c',\n",
       " '9c66',\n",
       " '9c5f',\n",
       " '9c54',\n",
       " '15fb9',\n",
       " '4e41']"
      ]
     },
     "execution_count": 66,
     "metadata": {},
     "output_type": "execute_result"
    }
   ],
   "source": [
    "links = soup.find('ul', {'class': 'talksblock'})\n",
    "\n",
    "# 250002\n",
    "# 240028\n",
    "# 240007\n",
    "# 230038\n",
    "# 230014\n",
    "# 230009\n",
    "# 220046\n",
    "\n",
    "linkList = links.find_all('a', {'class': 'refcounter'})\n",
    "# .extract()\n",
    "# links\n",
    "linkList\n",
    "\n",
    "\n",
    "link1 = links.find('a', {'class': 'refcounter'})['onclick']\n",
    "\n",
    "# type(link1)\n",
    "link1.replace(\"getTalk('\", \"\").replace(\"');\", \"\")\n",
    "for item in linkList:\n",
    "    # item.replace(\"getTalk('\", \"\").replace(\"');\", \"\")\n",
    "    # print(item)\n",
    "    pass\n",
    "# linkList.replace(\"getTalk('\", \"\").replace(\"');\", \"\")\n",
    "\n",
    "linkList2 = []\n",
    "\n",
    "for link in soup.find_all('a', {'class': 'refcounter'}):\n",
    "    linkList2.append(\n",
    "        np.base_repr(int(\n",
    "        link.get('onclick').replace(\"getTalk('\", \"\").replace(\"');\", \"\")\n",
    "        ), 16\n",
    "        ).lower()\n",
    "        )\n",
    "# http://example.com/elsie\n",
    "# http://example.com/lacie\n",
    "# http://example.com/tillie\n",
    "\n",
    "linkList2"
   ]
  },
  {
   "attachments": {},
   "cell_type": "markdown",
   "metadata": {},
   "source": [
    "The try block lets you test a block of code for errors.\n",
    "\n",
    "The except block lets you handle the error.\n",
    "\n",
    "The else block lets you execute code when there is no error.\n",
    "\n",
    "The finally block lets you execute code, regardless of the result of the try- and except blocks."
   ]
  },
  {
   "cell_type": "code",
   "execution_count": 179,
   "metadata": {},
   "outputs": [
    {
     "name": "stdout",
     "output_type": "stream",
     "text": [
      "3d092\n",
      "3a99c\n",
      "Something broke but I might have fixed it :D\n",
      "3a987\n",
      "38296\n",
      "Something broke but I might have fixed it :D\n",
      "3827e\n",
      "38279\n",
      "Something broke but I might have fixed it :D\n",
      "35b8e\n",
      "Something broke but I might have fixed it :D\n"
     ]
    },
    {
     "ename": "WebDriverException",
     "evalue": "Message: disconnected: not connected to DevTools\n  (failed to check if window was closed: disconnected: not connected to DevTools)\n  (Session info: chrome=110.0.5481.178)\nStacktrace:\nBacktrace:\n\t(No symbol) [0x00FB37D3]\n\t(No symbol) [0x00F48B81]\n\t(No symbol) [0x00E4B36D]\n\t(No symbol) [0x00E3BE5A]\n\t(No symbol) [0x00E3C63A]\n\t(No symbol) [0x00E3C5D8]\n\t(No symbol) [0x00E2D0BA]\n\t(No symbol) [0x00E2DBA7]\n\t(No symbol) [0x00EA489B]\n\t(No symbol) [0x00E9B3E3]\n\t(No symbol) [0x00E70D97]\n\t(No symbol) [0x00E7253D]\n\tGetHandleVerifier [0x0122ABF2+2510930]\n\tGetHandleVerifier [0x01258EC1+2700065]\n\tGetHandleVerifier [0x0125C86C+2714828]\n\tGetHandleVerifier [0x01063480+645344]\n\t(No symbol) [0x00F50FD2]\n\t(No symbol) [0x00F56C68]\n\t(No symbol) [0x00F56D4B]\n\t(No symbol) [0x00F60D6B]\n\tBaseThreadInitThunk [0x778300F9+25]\n\tRtlGetAppContainerNamedObjectPath [0x77EA7BBE+286]\n\tRtlGetAppContainerNamedObjectPath [0x77EA7B8E+238]\n",
     "output_type": "error",
     "traceback": [
      "\u001b[1;31m---------------------------------------------------------------------------\u001b[0m",
      "\u001b[1;31mNoSuchWindowException\u001b[0m                     Traceback (most recent call last)",
      "Cell \u001b[1;32mIn [179], line 14\u001b[0m\n\u001b[0;32m     11\u001b[0m \u001b[39mtry\u001b[39;00m:\n\u001b[1;32m---> 14\u001b[0m     browser\u001b[39m.\u001b[39;49mget(\u001b[39m\"\u001b[39;49m\u001b[39mhttps://scriptures.byu.edu/#:t\u001b[39;49m\u001b[39m\"\u001b[39;49m \u001b[39m+\u001b[39;49m url \u001b[39m+\u001b[39;49m \u001b[39m\"\u001b[39;49m\u001b[39m:p573\u001b[39;49m\u001b[39m\"\u001b[39;49m)  \u001b[39m# navigate to URL\u001b[39;00m\n\u001b[0;32m     15\u001b[0m     \u001b[39m# wait for page to load by waiting for <h1> element to appear on the page\u001b[39;00m\n",
      "File \u001b[1;32mc:\\Users\\LeRoy12358\\AppData\\Local\\Programs\\Python\\Python310\\lib\\site-packages\\selenium\\webdriver\\remote\\webdriver.py:449\u001b[0m, in \u001b[0;36mWebDriver.get\u001b[1;34m(self, url)\u001b[0m\n\u001b[0;32m    448\u001b[0m \u001b[39m\"\"\"Loads a web page in the current browser session.\"\"\"\u001b[39;00m\n\u001b[1;32m--> 449\u001b[0m \u001b[39mself\u001b[39;49m\u001b[39m.\u001b[39;49mexecute(Command\u001b[39m.\u001b[39;49mGET, {\u001b[39m\"\u001b[39;49m\u001b[39murl\u001b[39;49m\u001b[39m\"\u001b[39;49m: url})\n",
      "File \u001b[1;32mc:\\Users\\LeRoy12358\\AppData\\Local\\Programs\\Python\\Python310\\lib\\site-packages\\selenium\\webdriver\\remote\\webdriver.py:440\u001b[0m, in \u001b[0;36mWebDriver.execute\u001b[1;34m(self, driver_command, params)\u001b[0m\n\u001b[0;32m    439\u001b[0m \u001b[39mif\u001b[39;00m response:\n\u001b[1;32m--> 440\u001b[0m     \u001b[39mself\u001b[39;49m\u001b[39m.\u001b[39;49merror_handler\u001b[39m.\u001b[39;49mcheck_response(response)\n\u001b[0;32m    441\u001b[0m     response[\u001b[39m\"\u001b[39m\u001b[39mvalue\u001b[39m\u001b[39m\"\u001b[39m] \u001b[39m=\u001b[39m \u001b[39mself\u001b[39m\u001b[39m.\u001b[39m_unwrap_value(response\u001b[39m.\u001b[39mget(\u001b[39m\"\u001b[39m\u001b[39mvalue\u001b[39m\u001b[39m\"\u001b[39m, \u001b[39mNone\u001b[39;00m))\n",
      "File \u001b[1;32mc:\\Users\\LeRoy12358\\AppData\\Local\\Programs\\Python\\Python310\\lib\\site-packages\\selenium\\webdriver\\remote\\errorhandler.py:245\u001b[0m, in \u001b[0;36mErrorHandler.check_response\u001b[1;34m(self, response)\u001b[0m\n\u001b[0;32m    244\u001b[0m     \u001b[39mraise\u001b[39;00m exception_class(message, screen, stacktrace, alert_text)  \u001b[39m# type: ignore[call-arg]  # mypy is not smart enough here\u001b[39;00m\n\u001b[1;32m--> 245\u001b[0m \u001b[39mraise\u001b[39;00m exception_class(message, screen, stacktrace)\n",
      "\u001b[1;31mNoSuchWindowException\u001b[0m: Message: no such window: target window already closed\nfrom unknown error: web view not found\n  (Session info: chrome=110.0.5481.178)\nStacktrace:\nBacktrace:\n\t(No symbol) [0x00FB37D3]\n\t(No symbol) [0x00F48B81]\n\t(No symbol) [0x00E4B36D]\n\t(No symbol) [0x00E2E5DA]\n\t(No symbol) [0x00E9F0CB]\n\t(No symbol) [0x00EB0A56]\n\t(No symbol) [0x00E9B216]\n\t(No symbol) [0x00E70D97]\n\t(No symbol) [0x00E7253D]\n\tGetHandleVerifier [0x0122ABF2+2510930]\n\tGetHandleVerifier [0x01258EC1+2700065]\n\tGetHandleVerifier [0x0125C86C+2714828]\n\tGetHandleVerifier [0x01063480+645344]\n\t(No symbol) [0x00F50FD2]\n\t(No symbol) [0x00F56C68]\n\t(No symbol) [0x00F56D4B]\n\t(No symbol) [0x00F60D6B]\n\tBaseThreadInitThunk [0x778300F9+25]\n\tRtlGetAppContainerNamedObjectPath [0x77EA7BBE+286]\n\tRtlGetAppContainerNamedObjectPath [0x77EA7B8E+238]\n",
      "\nDuring handling of the above exception, another exception occurred:\n",
      "\u001b[1;31mWebDriverException\u001b[0m                        Traceback (most recent call last)",
      "Cell \u001b[1;32mIn [179], line 26\u001b[0m\n\u001b[0;32m     24\u001b[0m \u001b[39mexcept\u001b[39;00m:\n\u001b[0;32m     25\u001b[0m     \u001b[39mprint\u001b[39m(\u001b[39m\"\u001b[39m\u001b[39mSomething broke but I might have fixed it :D\u001b[39m\u001b[39m\"\u001b[39m)\n\u001b[1;32m---> 26\u001b[0m     browser\u001b[39m.\u001b[39;49mclose()\n\u001b[0;32m     27\u001b[0m     browser \u001b[39m=\u001b[39m webdriver\u001b[39m.\u001b[39mChrome()\n\u001b[0;32m     28\u001b[0m     i \u001b[39m-\u001b[39m\u001b[39m=\u001b[39m \u001b[39m1\u001b[39m\n",
      "File \u001b[1;32mc:\\Users\\LeRoy12358\\AppData\\Local\\Programs\\Python\\Python310\\lib\\site-packages\\selenium\\webdriver\\remote\\webdriver.py:551\u001b[0m, in \u001b[0;36mWebDriver.close\u001b[1;34m(self)\u001b[0m\n\u001b[0;32m    543\u001b[0m \u001b[39mdef\u001b[39;00m \u001b[39mclose\u001b[39m(\u001b[39mself\u001b[39m) \u001b[39m-\u001b[39m\u001b[39m>\u001b[39m \u001b[39mNone\u001b[39;00m:\n\u001b[0;32m    544\u001b[0m     \u001b[39m\"\"\"Closes the current window.\u001b[39;00m\n\u001b[0;32m    545\u001b[0m \n\u001b[0;32m    546\u001b[0m \u001b[39m    :Usage:\u001b[39;00m\n\u001b[1;32m   (...)\u001b[0m\n\u001b[0;32m    549\u001b[0m \u001b[39m            driver.close()\u001b[39;00m\n\u001b[0;32m    550\u001b[0m \u001b[39m    \"\"\"\u001b[39;00m\n\u001b[1;32m--> 551\u001b[0m     \u001b[39mself\u001b[39;49m\u001b[39m.\u001b[39;49mexecute(Command\u001b[39m.\u001b[39;49mCLOSE)\n",
      "File \u001b[1;32mc:\\Users\\LeRoy12358\\AppData\\Local\\Programs\\Python\\Python310\\lib\\site-packages\\selenium\\webdriver\\remote\\webdriver.py:440\u001b[0m, in \u001b[0;36mWebDriver.execute\u001b[1;34m(self, driver_command, params)\u001b[0m\n\u001b[0;32m    438\u001b[0m response \u001b[39m=\u001b[39m \u001b[39mself\u001b[39m\u001b[39m.\u001b[39mcommand_executor\u001b[39m.\u001b[39mexecute(driver_command, params)\n\u001b[0;32m    439\u001b[0m \u001b[39mif\u001b[39;00m response:\n\u001b[1;32m--> 440\u001b[0m     \u001b[39mself\u001b[39;49m\u001b[39m.\u001b[39;49merror_handler\u001b[39m.\u001b[39;49mcheck_response(response)\n\u001b[0;32m    441\u001b[0m     response[\u001b[39m\"\u001b[39m\u001b[39mvalue\u001b[39m\u001b[39m\"\u001b[39m] \u001b[39m=\u001b[39m \u001b[39mself\u001b[39m\u001b[39m.\u001b[39m_unwrap_value(response\u001b[39m.\u001b[39mget(\u001b[39m\"\u001b[39m\u001b[39mvalue\u001b[39m\u001b[39m\"\u001b[39m, \u001b[39mNone\u001b[39;00m))\n\u001b[0;32m    442\u001b[0m     \u001b[39mreturn\u001b[39;00m response\n",
      "File \u001b[1;32mc:\\Users\\LeRoy12358\\AppData\\Local\\Programs\\Python\\Python310\\lib\\site-packages\\selenium\\webdriver\\remote\\errorhandler.py:245\u001b[0m, in \u001b[0;36mErrorHandler.check_response\u001b[1;34m(self, response)\u001b[0m\n\u001b[0;32m    243\u001b[0m         alert_text \u001b[39m=\u001b[39m value[\u001b[39m\"\u001b[39m\u001b[39malert\u001b[39m\u001b[39m\"\u001b[39m]\u001b[39m.\u001b[39mget(\u001b[39m\"\u001b[39m\u001b[39mtext\u001b[39m\u001b[39m\"\u001b[39m)\n\u001b[0;32m    244\u001b[0m     \u001b[39mraise\u001b[39;00m exception_class(message, screen, stacktrace, alert_text)  \u001b[39m# type: ignore[call-arg]  # mypy is not smart enough here\u001b[39;00m\n\u001b[1;32m--> 245\u001b[0m \u001b[39mraise\u001b[39;00m exception_class(message, screen, stacktrace)\n",
      "\u001b[1;31mWebDriverException\u001b[0m: Message: disconnected: not connected to DevTools\n  (failed to check if window was closed: disconnected: not connected to DevTools)\n  (Session info: chrome=110.0.5481.178)\nStacktrace:\nBacktrace:\n\t(No symbol) [0x00FB37D3]\n\t(No symbol) [0x00F48B81]\n\t(No symbol) [0x00E4B36D]\n\t(No symbol) [0x00E3BE5A]\n\t(No symbol) [0x00E3C63A]\n\t(No symbol) [0x00E3C5D8]\n\t(No symbol) [0x00E2D0BA]\n\t(No symbol) [0x00E2DBA7]\n\t(No symbol) [0x00EA489B]\n\t(No symbol) [0x00E9B3E3]\n\t(No symbol) [0x00E70D97]\n\t(No symbol) [0x00E7253D]\n\tGetHandleVerifier [0x0122ABF2+2510930]\n\tGetHandleVerifier [0x01258EC1+2700065]\n\tGetHandleVerifier [0x0125C86C+2714828]\n\tGetHandleVerifier [0x01063480+645344]\n\t(No symbol) [0x00F50FD2]\n\t(No symbol) [0x00F56C68]\n\t(No symbol) [0x00F56D4B]\n\t(No symbol) [0x00F60D6B]\n\tBaseThreadInitThunk [0x778300F9+25]\n\tRtlGetAppContainerNamedObjectPath [0x77EA7BBE+286]\n\tRtlGetAppContainerNamedObjectPath [0x77EA7B8E+238]\n"
     ]
    }
   ],
   "source": [
    "# This will likely take quite a while to run....\n",
    "\n",
    "# breaker = False\n",
    "browser = webdriver.Chrome()  # start a web browser\n",
    "pot = []\n",
    "\n",
    "for i in range(0, len(linkList2)):\n",
    "    url = linkList2[i]\n",
    "    print(url)\n",
    "    \n",
    "    try:\n",
    "\n",
    "\n",
    "        browser.get(\"https://scriptures.byu.edu/#:t\" + url + \":p573\")  # navigate to URL\n",
    "        # wait for page to load by waiting for <h1> element to appear on the page\n",
    "        title = (\n",
    "            WebDriverWait(driver=browser, timeout=10)\n",
    "            .until(visibility_of_element_located((By.ID, \"jContent\")))\n",
    "            .text\n",
    "        )\n",
    "        # retrieve fully rendered HTML content\n",
    "        content = browser.page_source\n",
    "\n",
    "    except:\n",
    "        print(\"Something broke but I might have fixed it :D\")\n",
    "        browser.close()\n",
    "        browser = webdriver.Chrome()\n",
    "        i -= 1\n",
    "        # continue\n",
    "    else:\n",
    "        # we then could parse it with beautifulsoup\n",
    "        soup = BeautifulSoup(content, \"html.parser\")\n",
    "        pot.append(soup)\n",
    "        time.sleep(.5)\n",
    "    \n",
    "browser.close()\n",
    "    # if(breaker):\n",
    "    #     break\n",
    "    # breaker = True\n",
    "    "
   ]
  },
  {
   "attachments": {},
   "cell_type": "markdown",
   "metadata": {},
   "source": [
    "['3d092', '3a99c', '3a987', '38296', '3827e', '38279', '35b8e', '35b8d', '35b8b', '35b75', '35b7e', '35b72', '35b79', '33473', '33471', '3346f', '33466', '3345f',\n",
    "Output exceeds the size limit. Open the full output data in a text editor\n",
    "3d092, 3a99c, Something broke but I might have fixed it :D, 3a987, 38296, Something broke but I might have fixed it :D, 3827e, 38279, 35b8e, Something broke but I might have fixed it :D, 35b8d, 35b8b, Something broke but I might have fixed it :D, 35b75, 35b7e, 35b72, 35b79, 33473"
   ]
  },
  {
   "cell_type": "code",
   "execution_count": 94,
   "metadata": {},
   "outputs": [
    {
     "data": {
      "text/plain": [
       "40"
      ]
     },
     "execution_count": 94,
     "metadata": {},
     "output_type": "execute_result"
    }
   ],
   "source": [
    "# pot.pop()\n",
    "pot2 = pot\n",
    "# pot.pop()\n",
    "pot2.__sizeof__()\n",
    "pot.__sizeof__()"
   ]
  },
  {
   "cell_type": "code",
   "execution_count": 160,
   "metadata": {},
   "outputs": [],
   "source": [
    "from difflib import SequenceMatcher\n",
    "\n",
    "def findMatches(str1, str2, BLOCK_MIN_LENGTH = 6):\n",
    "    sm = SequenceMatcher(lambda x: x in \" \", str1, str2)\n",
    "    finalMatches = []\n",
    "    matchesPosns = sm.get_matching_blocks()\n",
    "\n",
    "    # put together a list of matches longer than only a couple characters\n",
    "    for matchPos in matchesPosns:\n",
    "        matchLength = matchPos[2]\n",
    "        if matchLength < BLOCK_MIN_LENGTH:\n",
    "            continue\n",
    "        # print(str1[matchPos[0]:matchPos[0] + matchPos[2]])\n",
    "        finalMatches.append(matchPos)\n",
    "    return [str1[finalMatches[0][0]:finalMatches[-1][0] + finalMatches[-1][2]],\n",
    "            str2[finalMatches[0][1]:finalMatches[-1][1] + finalMatches[-1][2]]]\n"
   ]
  },
  {
   "cell_type": "code",
   "execution_count": 161,
   "metadata": {},
   "outputs": [
    {
     "data": {
      "text/plain": [
       "[' holy men who wrote and spoke as they were moved upon by the Holy Ghost',\n",
       " ' holy men of God spake as they were moved by the Holy Ghost']"
      ]
     },
     "execution_count": 161,
     "metadata": {},
     "output_type": "execute_result"
    }
   ],
   "source": [
    "myStr1 = \"He has left on record through the medium of holy men who wrote and spoke as they were moved upon by the Holy Ghost\"\n",
    "myStr2 = \"For the prophecy came not in old time by the will of man: but holy men of God spake as they were moved by the Holy Ghost.\"\n",
    "findMatches(myStr1, myStr2)\n",
    "\n",
    "\n"
   ]
  },
  {
   "cell_type": "code",
   "execution_count": null,
   "metadata": {},
   "outputs": [],
   "source": []
  }
 ],
 "metadata": {
  "kernelspec": {
   "display_name": "Python 3",
   "language": "python",
   "name": "python3"
  },
  "language_info": {
   "codemirror_mode": {
    "name": "ipython",
    "version": 3
   },
   "file_extension": ".py",
   "mimetype": "text/x-python",
   "name": "python",
   "nbconvert_exporter": "python",
   "pygments_lexer": "ipython3",
   "version": "3.10.8"
  },
  "orig_nbformat": 4,
  "vscode": {
   "interpreter": {
    "hash": "44839650a47afe4f123565aa95902dbfa099a4fa6c49cc733305d4612399f7fd"
   }
  }
 },
 "nbformat": 4,
 "nbformat_minor": 2
}
